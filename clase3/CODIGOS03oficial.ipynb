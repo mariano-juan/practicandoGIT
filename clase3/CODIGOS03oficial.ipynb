{
 "cells": [
  {
   "cell_type": "markdown",
   "id": "28dda8cc",
   "metadata": {},
   "source": [
    "# 🌍 Curso Python Aplicado al Análisis de Datos Ambientales\n",
    "\n",
    "## 📊 Sesión 3: Visualización de Datos Ambientales\n",
    "\n",
    "---\n",
    "\n",
    "### 🎯 **Objetivos de Aprendizaje**\n",
    "\n",
    "Al finalizar esta sesión, serás capaz de:\n",
    "\n",
    "1. ✅ Comprender los **principios de visualización científica** aplicados a datos ambientales\n",
    "2. ✅ Crear **gráficos estáticos** con Matplotlib\n",
    "3. ✅ Desarrollar **gráficos interactivos** con Plotly\n",
    "4. ✅ Analizar **series temporales** de contaminantes atmosféricos\n",
    "5. ✅ Construir un **dashboard interactivo** para monitoreo ambiental\n",
    "\n",
    "---\n",
    "\n",
    "### 📚 **Contenido**\n",
    "\n",
    "1. **Fundamentos de Visualización**\n",
    "   - Tipos de gráficos y cuándo usarlos\n",
    "   - Matplotlib vs Plotly\n",
    "   \n",
    "2. **Análisis de Series Temporales**\n",
    "   - Gráficos de línea\n",
    "   - Manejo de datos faltantes\n",
    "   \n",
    "3. **Análisis de Distribuciones**\n",
    "   - Boxplots (cajas y bigotes)\n",
    "   - Interpretación estadística\n",
    "   \n",
    "4. **Relaciones entre Variables**\n",
    "   - Scatterplots (dispersión)\n",
    "   - Correlaciones\n",
    "   - Heatmaps (mapas de calor)\n",
    "   \n",
    "5. **Dashboard Interactivo**\n",
    "   - Introducción a Dash\n",
    "   - Aplicación web de monitoreo\n",
    "\n",
    "---\n",
    "\n",
    "### 📦 **Datos a Utilizar**\n",
    "\n",
    "Trabajaremos con datos reales de **contaminantes atmosféricos** del SENAMHI (Servicio Nacional de Meteorología e Hidrología del Perú):\n",
    "\n",
    "- **PM10**: Material particulado < 10 μm\n",
    "- **PM2.5**: Material particulado < 2.5 μm  \n",
    "- **NO2**: Dióxido de nitrógeno\n",
    "\n",
    "Estos datos incluyen mediciones horarias de diferentes estaciones de monitoreo en Lima Metropolitana."
   ]
  },
  {
   "cell_type": "markdown",
   "id": "ed7c6005",
   "metadata": {},
   "source": [
    "## 📦 Parte 0: Configuración Inicial\n",
    "\n",
    "Antes de comenzar, necesitamos instalar y cargar las librerías necesarias.\n",
    "\n",
    "### 🔧 **Librerías que usaremos:**\n",
    "\n",
    "| Librería | Propósito | Instalación |\n",
    "|----------|-----------|-------------|\n",
    "| **pandas** | Manipulación de datos | `pip install pandas` |\n",
    "| **matplotlib** | Gráficos estáticos | `pip install matplotlib` |\n",
    "| **plotly** | Gráficos interactivos | `pip install plotly` |\n",
    "| **seaborn** | Visualizaciones estadísticas | `pip install seaborn` |\n",
    "| **dash** | Dashboards web | `pip install dash` |\n",
    "\n",
    "### 💡 **Tip Importante:**\n",
    "\n",
    "Si ya tienes las librerías instaladas, simplemente ejecuta la celda de importación. Si no, descomenta las líneas de instalación."
   ]
  },
  {
   "cell_type": "code",
   "execution_count": 2,
   "id": "5812d687",
   "metadata": {},
   "outputs": [
    {
     "name": "stdout",
     "output_type": "stream",
     "text": [
      "Requirement already satisfied: pandas in c:\\users\\mariano\\appdata\\local\\programs\\python\\python310\\lib\\site-packages (2.3.3)Note: you may need to restart the kernel to use updated packages.\n"
     ]
    },
    {
     "name": "stderr",
     "output_type": "stream",
     "text": [
      "\n",
      "[notice] A new release of pip is available: 23.0.1 -> 25.2\n",
      "[notice] To update, run: python.exe -m pip install --upgrade pip\n"
     ]
    },
    {
     "name": "stdout",
     "output_type": "stream",
     "text": [
      "\n",
      "Requirement already satisfied: python-dateutil>=2.8.2 in c:\\users\\mariano\\appdata\\roaming\\python\\python310\\site-packages (from pandas) (2.9.0.post0)\n",
      "Requirement already satisfied: numpy>=1.22.4 in c:\\users\\mariano\\appdata\\local\\programs\\python\\python310\\lib\\site-packages (from pandas) (2.2.6)\n",
      "Requirement already satisfied: tzdata>=2022.7 in c:\\users\\mariano\\appdata\\local\\programs\\python\\python310\\lib\\site-packages (from pandas) (2025.2)\n",
      "Requirement already satisfied: pytz>=2020.1 in c:\\users\\mariano\\appdata\\local\\programs\\python\\python310\\lib\\site-packages (from pandas) (2025.2)\n",
      "Requirement already satisfied: six>=1.5 in c:\\users\\mariano\\appdata\\roaming\\python\\python310\\site-packages (from python-dateutil>=2.8.2->pandas) (1.17.0)\n",
      "Requirement already satisfied: matplotlib in c:\\users\\mariano\\appdata\\local\\programs\\python\\python310\\lib\\site-packages (3.10.7)\n",
      "Requirement already satisfied: cycler>=0.10 in c:\\users\\mariano\\appdata\\local\\programs\\python\\python310\\lib\\site-packages (from matplotlib) (0.12.1)\n",
      "Requirement already satisfied: contourpy>=1.0.1 in c:\\users\\mariano\\appdata\\local\\programs\\python\\python310\\lib\\site-packages (from matplotlib) (1.3.2)\n",
      "Requirement already satisfied: packaging>=20.0 in c:\\users\\mariano\\appdata\\roaming\\python\\python310\\site-packages (from matplotlib) (25.0)\n",
      "Requirement already satisfied: python-dateutil>=2.7 in c:\\users\\mariano\\appdata\\roaming\\python\\python310\\site-packages (from matplotlib) (2.9.0.post0)\n",
      "Requirement already satisfied: pyparsing>=3 in c:\\users\\mariano\\appdata\\local\\programs\\python\\python310\\lib\\site-packages (from matplotlib) (3.2.5)\n",
      "Requirement already satisfied: fonttools>=4.22.0 in c:\\users\\mariano\\appdata\\local\\programs\\python\\python310\\lib\\site-packages (from matplotlib) (4.60.1)\n",
      "Requirement already satisfied: numpy>=1.23 in c:\\users\\mariano\\appdata\\local\\programs\\python\\python310\\lib\\site-packages (from matplotlib) (2.2.6)\n",
      "Requirement already satisfied: kiwisolver>=1.3.1 in c:\\users\\mariano\\appdata\\local\\programs\\python\\python310\\lib\\site-packages (from matplotlib) (1.4.9)\n",
      "Requirement already satisfied: pillow>=8 in c:\\users\\mariano\\appdata\\local\\programs\\python\\python310\\lib\\site-packages (from matplotlib) (11.3.0)\n",
      "Requirement already satisfied: six>=1.5 in c:\\users\\mariano\\appdata\\roaming\\python\\python310\\site-packages (from python-dateutil>=2.7->matplotlib) (1.17.0)\n",
      "Note: you may need to restart the kernel to use updated packages.\n"
     ]
    },
    {
     "name": "stderr",
     "output_type": "stream",
     "text": [
      "\n",
      "[notice] A new release of pip is available: 23.0.1 -> 25.2\n",
      "[notice] To update, run: python.exe -m pip install --upgrade pip\n"
     ]
    },
    {
     "name": "stdout",
     "output_type": "stream",
     "text": [
      "Requirement already satisfied: plotly in c:\\users\\mariano\\appdata\\local\\programs\\python\\python310\\lib\\site-packages (6.3.1)\n",
      "Requirement already satisfied: packaging in c:\\users\\mariano\\appdata\\roaming\\python\\python310\\site-packages (from plotly) (25.0)\n",
      "Requirement already satisfied: narwhals>=1.15.1 in c:\\users\\mariano\\appdata\\local\\programs\\python\\python310\\lib\\site-packages (from plotly) (2.8.0)\n",
      "Note: you may need to restart the kernel to use updated packages.\n"
     ]
    },
    {
     "name": "stderr",
     "output_type": "stream",
     "text": [
      "\n",
      "[notice] A new release of pip is available: 23.0.1 -> 25.2\n",
      "[notice] To update, run: python.exe -m pip install --upgrade pip\n"
     ]
    },
    {
     "name": "stdout",
     "output_type": "stream",
     "text": [
      "Requirement already satisfied: seaborn in c:\\users\\mariano\\appdata\\local\\programs\\python\\python310\\lib\\site-packages (0.13.2)Note: you may need to restart the kernel to use updated packages.\n",
      "\n",
      "Requirement already satisfied: matplotlib!=3.6.1,>=3.4 in c:\\users\\mariano\\appdata\\local\\programs\\python\\python310\\lib\\site-packages (from seaborn) (3.10.7)\n",
      "Requirement already satisfied: pandas>=1.2 in c:\\users\\mariano\\appdata\\local\\programs\\python\\python310\\lib\\site-packages (from seaborn) (2.3.3)\n",
      "Requirement already satisfied: numpy!=1.24.0,>=1.20 in c:\\users\\mariano\\appdata\\local\\programs\\python\\python310\\lib\\site-packages (from seaborn) (2.2.6)\n",
      "Requirement already satisfied: cycler>=0.10 in c:\\users\\mariano\\appdata\\local\\programs\\python\\python310\\lib\\site-packages (from matplotlib!=3.6.1,>=3.4->seaborn) (0.12.1)\n",
      "Requirement already satisfied: pyparsing>=3 in c:\\users\\mariano\\appdata\\local\\programs\\python\\python310\\lib\\site-packages (from matplotlib!=3.6.1,>=3.4->seaborn) (3.2.5)\n",
      "Requirement already satisfied: packaging>=20.0 in c:\\users\\mariano\\appdata\\roaming\\python\\python310\\site-packages (from matplotlib!=3.6.1,>=3.4->seaborn) (25.0)\n",
      "Requirement already satisfied: pillow>=8 in c:\\users\\mariano\\appdata\\local\\programs\\python\\python310\\lib\\site-packages (from matplotlib!=3.6.1,>=3.4->seaborn) (11.3.0)\n",
      "Requirement already satisfied: kiwisolver>=1.3.1 in c:\\users\\mariano\\appdata\\local\\programs\\python\\python310\\lib\\site-packages (from matplotlib!=3.6.1,>=3.4->seaborn) (1.4.9)\n",
      "Requirement already satisfied: python-dateutil>=2.7 in c:\\users\\mariano\\appdata\\roaming\\python\\python310\\site-packages (from matplotlib!=3.6.1,>=3.4->seaborn) (2.9.0.post0)\n",
      "Requirement already satisfied: contourpy>=1.0.1 in c:\\users\\mariano\\appdata\\local\\programs\\python\\python310\\lib\\site-packages (from matplotlib!=3.6.1,>=3.4->seaborn) (1.3.2)\n",
      "Requirement already satisfied: fonttools>=4.22.0 in c:\\users\\mariano\\appdata\\local\\programs\\python\\python310\\lib\\site-packages (from matplotlib!=3.6.1,>=3.4->seaborn) (4.60.1)\n",
      "Requirement already satisfied: pytz>=2020.1 in c:\\users\\mariano\\appdata\\local\\programs\\python\\python310\\lib\\site-packages (from pandas>=1.2->seaborn) (2025.2)\n",
      "Requirement already satisfied: tzdata>=2022.7 in c:\\users\\mariano\\appdata\\local\\programs\\python\\python310\\lib\\site-packages (from pandas>=1.2->seaborn) (2025.2)\n",
      "Requirement already satisfied: six>=1.5 in c:\\users\\mariano\\appdata\\roaming\\python\\python310\\site-packages (from python-dateutil>=2.7->matplotlib!=3.6.1,>=3.4->seaborn) (1.17.0)\n"
     ]
    },
    {
     "name": "stderr",
     "output_type": "stream",
     "text": [
      "\n",
      "[notice] A new release of pip is available: 23.0.1 -> 25.2\n",
      "[notice] To update, run: python.exe -m pip install --upgrade pip\n"
     ]
    },
    {
     "name": "stdout",
     "output_type": "stream",
     "text": [
      "Requirement already satisfied: dash in c:\\users\\mariano\\appdata\\local\\programs\\python\\python310\\lib\\site-packages (3.2.0)\n",
      "Requirement already satisfied: importlib-metadata in c:\\users\\mariano\\appdata\\local\\programs\\python\\python310\\lib\\site-packages (from dash) (8.7.0)\n",
      "Requirement already satisfied: requests in c:\\users\\mariano\\appdata\\local\\programs\\python\\python310\\lib\\site-packages (from dash) (2.32.5)\n",
      "Requirement already satisfied: typing-extensions>=4.1.1 in c:\\users\\mariano\\appdata\\roaming\\python\\python310\\site-packages (from dash) (4.15.0)\n",
      "Requirement already satisfied: Flask<3.2,>=1.0.4 in c:\\users\\mariano\\appdata\\local\\programs\\python\\python310\\lib\\site-packages (from dash) (3.1.2)\n",
      "Requirement already satisfied: Werkzeug<3.2 in c:\\users\\mariano\\appdata\\local\\programs\\python\\python310\\lib\\site-packages (from dash) (3.1.3)\n",
      "Requirement already satisfied: plotly>=5.0.0 in c:\\users\\mariano\\appdata\\local\\programs\\python\\python310\\lib\\site-packages (from dash) (6.3.1)\n",
      "Requirement already satisfied: nest-asyncio in c:\\users\\mariano\\appdata\\roaming\\python\\python310\\site-packages (from dash) (1.6.0)\n",
      "Requirement already satisfied: retrying in c:\\users\\mariano\\appdata\\local\\programs\\python\\python310\\lib\\site-packages (from dash) (1.4.2)\n",
      "Requirement already satisfied: setuptools in c:\\users\\mariano\\appdata\\local\\programs\\python\\python310\\lib\\site-packages (from dash) (65.5.0)\n",
      "Requirement already satisfied: markupsafe>=2.1.1 in c:\\users\\mariano\\appdata\\local\\programs\\python\\python310\\lib\\site-packages (from Flask<3.2,>=1.0.4->dash) (3.0.3)\n",
      "Requirement already satisfied: click>=8.1.3 in c:\\users\\mariano\\appdata\\local\\programs\\python\\python310\\lib\\site-packages (from Flask<3.2,>=1.0.4->dash) (8.3.0)\n",
      "Requirement already satisfied: blinker>=1.9.0 in c:\\users\\mariano\\appdata\\local\\programs\\python\\python310\\lib\\site-packages (from Flask<3.2,>=1.0.4->dash) (1.9.0)\n",
      "Requirement already satisfied: jinja2>=3.1.2 in c:\\users\\mariano\\appdata\\local\\programs\\python\\python310\\lib\\site-packages (from Flask<3.2,>=1.0.4->dash) (3.1.6)\n",
      "Requirement already satisfied: itsdangerous>=2.2.0 in c:\\users\\mariano\\appdata\\local\\programs\\python\\python310\\lib\\site-packages (from Flask<3.2,>=1.0.4->dash) (2.2.0)\n",
      "Requirement already satisfied: narwhals>=1.15.1 in c:\\users\\mariano\\appdata\\local\\programs\\python\\python310\\lib\\site-packages (from plotly>=5.0.0->dash) (2.8.0)\n",
      "Requirement already satisfied: packaging in c:\\users\\mariano\\appdata\\roaming\\python\\python310\\site-packages (from plotly>=5.0.0->dash) (25.0)\n",
      "Requirement already satisfied: zipp>=3.20 in c:\\users\\mariano\\appdata\\local\\programs\\python\\python310\\lib\\site-packages (from importlib-metadata->dash) (3.23.0)\n",
      "Requirement already satisfied: idna<4,>=2.5 in c:\\users\\mariano\\appdata\\local\\programs\\python\\python310\\lib\\site-packages (from requests->dash) (3.11)\n",
      "Requirement already satisfied: certifi>=2017.4.17 in c:\\users\\mariano\\appdata\\local\\programs\\python\\python310\\lib\\site-packages (from requests->dash) (2025.10.5)\n",
      "Requirement already satisfied: charset_normalizer<4,>=2 in c:\\users\\mariano\\appdata\\local\\programs\\python\\python310\\lib\\site-packages (from requests->dash) (3.4.4)\n",
      "Requirement already satisfied: urllib3<3,>=1.21.1 in c:\\users\\mariano\\appdata\\local\\programs\\python\\python310\\lib\\site-packages (from requests->dash) (2.5.0)\n",
      "Requirement already satisfied: colorama in c:\\users\\mariano\\appdata\\roaming\\python\\python310\\site-packages (from click>=8.1.3->Flask<3.2,>=1.0.4->dash) (0.4.6)\n",
      "Note: you may need to restart the kernel to use updated packages.\n"
     ]
    },
    {
     "name": "stderr",
     "output_type": "stream",
     "text": [
      "\n",
      "[notice] A new release of pip is available: 23.0.1 -> 25.2\n",
      "[notice] To update, run: python.exe -m pip install --upgrade pip\n"
     ]
    },
    {
     "name": "stdout",
     "output_type": "stream",
     "text": [
      "Requirement already satisfied: numpy in c:\\users\\mariano\\appdata\\local\\programs\\python\\python310\\lib\\site-packages (2.2.6)\n",
      "Note: you may need to restart the kernel to use updated packages.\n"
     ]
    },
    {
     "name": "stderr",
     "output_type": "stream",
     "text": [
      "\n",
      "[notice] A new release of pip is available: 23.0.1 -> 25.2\n",
      "[notice] To update, run: python.exe -m pip install --upgrade pip\n"
     ]
    },
    {
     "name": "stdout",
     "output_type": "stream",
     "text": [
      "Requirement already satisfied: nbformat in c:\\users\\mariano\\appdata\\local\\programs\\python\\python310\\lib\\site-packages (5.10.4)\n",
      "Requirement already satisfied: jsonschema>=2.6 in c:\\users\\mariano\\appdata\\local\\programs\\python\\python310\\lib\\site-packages (from nbformat) (4.25.1)\n",
      "Requirement already satisfied: jupyter-core!=5.0.*,>=4.12 in c:\\users\\mariano\\appdata\\roaming\\python\\python310\\site-packages (from nbformat) (5.8.1)\n",
      "Requirement already satisfied: traitlets>=5.1 in c:\\users\\mariano\\appdata\\roaming\\python\\python310\\site-packages (from nbformat) (5.14.3)\n",
      "Requirement already satisfied: fastjsonschema>=2.15 in c:\\users\\mariano\\appdata\\local\\programs\\python\\python310\\lib\\site-packages (from nbformat) (2.21.2)\n",
      "Requirement already satisfied: referencing>=0.28.4 in c:\\users\\mariano\\appdata\\local\\programs\\python\\python310\\lib\\site-packages (from jsonschema>=2.6->nbformat) (0.37.0)\n",
      "Requirement already satisfied: jsonschema-specifications>=2023.03.6 in c:\\users\\mariano\\appdata\\local\\programs\\python\\python310\\lib\\site-packages (from jsonschema>=2.6->nbformat) (2025.9.1)\n",
      "Requirement already satisfied: attrs>=22.2.0 in c:\\users\\mariano\\appdata\\local\\programs\\python\\python310\\lib\\site-packages (from jsonschema>=2.6->nbformat) (25.4.0)\n",
      "Requirement already satisfied: rpds-py>=0.7.1 in c:\\users\\mariano\\appdata\\local\\programs\\python\\python310\\lib\\site-packages (from jsonschema>=2.6->nbformat) (0.27.1)\n",
      "Requirement already satisfied: pywin32>=300 in c:\\users\\mariano\\appdata\\roaming\\python\\python310\\site-packages (from jupyter-core!=5.0.*,>=4.12->nbformat) (311)\n",
      "Requirement already satisfied: platformdirs>=2.5 in c:\\users\\mariano\\appdata\\roaming\\python\\python310\\site-packages (from jupyter-core!=5.0.*,>=4.12->nbformat) (4.5.0)\n",
      "Requirement already satisfied: typing-extensions>=4.4.0 in c:\\users\\mariano\\appdata\\roaming\\python\\python310\\site-packages (from referencing>=0.28.4->jsonschema>=2.6->nbformat) (4.15.0)\n",
      "Note: you may need to restart the kernel to use updated packages.\n",
      "✅ Si no hubo errores, las librerías ya están instaladas\n",
      "📚 Ahora procederemos a importarlas...\n"
     ]
    },
    {
     "name": "stderr",
     "output_type": "stream",
     "text": [
      "\n",
      "[notice] A new release of pip is available: 23.0.1 -> 25.2\n",
      "[notice] To update, run: python.exe -m pip install --upgrade pip\n"
     ]
    }
   ],
   "source": [
    "# === INSTALACIÓN DE LIBRERÍAS (Ejecutar solo si no las tienes) ===\n",
    "# Descomenta las siguientes líneas si necesitas instalar las librerías\n",
    "\n",
    "# %pip install pandas matplotlib plotly seaborn dash\n",
    "%pip install pandas \n",
    "%pip install matplotlib \n",
    "%pip install plotly\n",
    "%pip install seaborn\n",
    "%pip install dash \n",
    "%pip install numpy\n",
    "%pip install nbformat\n",
    "print(\"✅ Si no hubo errores, las librerías ya están instaladas\")\n",
    "print(\"📚 Ahora procederemos a importarlas...\")\n"
   ]
  },
  {
   "cell_type": "markdown",
   "id": "9ae5880f",
   "metadata": {},
   "source": [
    "### 📚 Importar Librerías\n",
    "\n",
    "Ahora importaremos todas las librerías que usaremos en esta sesión:\n",
    "\n",
    "```python\n",
    "import pandas as pd              # Para trabajar con datos tabulares\n",
    "import matplotlib.pyplot as plt  # Para gráficos estáticos\n",
    "import plotly.express as px      # Para gráficos interactivos (versión simplificada)\n",
    "import plotly.graph_objects as go # Para gráficos interactivos (versión avanzada)\n",
    "import seaborn as sns            # Para visualizaciones estadísticas elegantes\n",
    "import numpy as np               # Para operaciones numéricas\n",
    "```\n",
    "\n",
    "**¿Por qué usamos alias?**\n",
    "- `pd`, `plt`, `px`, `sns`, `np` son **convenciones estándar** de la comunidad Python\n",
    "- Hacen el código **más corto y legible**"
   ]
  },
  {
   "cell_type": "code",
   "execution_count": 2,
   "id": "3d903134",
   "metadata": {},
   "outputs": [
    {
     "name": "stdout",
     "output_type": "stream",
     "text": [
      "Collecting plotly\n",
      "  Downloading plotly-6.3.1-py3-none-any.whl (9.8 MB)\n",
      "     ---------------------------------------- 0.0/9.8 MB ? eta -:--:--\n",
      "     --- ------------------------------------ 0.9/9.8 MB 27.7 MB/s eta 0:00:01\n",
      "     ---------- ----------------------------- 2.6/9.8 MB 33.6 MB/s eta 0:00:01\n",
      "     ------------------ --------------------- 4.5/9.8 MB 35.8 MB/s eta 0:00:01\n",
      "     ------------------------- -------------- 6.3/9.8 MB 36.6 MB/s eta 0:00:01\n",
      "     -------------------------------- ------- 8.0/9.8 MB 36.5 MB/s eta 0:00:01\n",
      "     ---------------------------------------  9.7/9.8 MB 34.6 MB/s eta 0:00:01\n",
      "     ---------------------------------------  9.8/9.8 MB 34.9 MB/s eta 0:00:01\n",
      "     ---------------------------------------  9.8/9.8 MB 34.9 MB/s eta 0:00:01\n",
      "     ---------------------------------------  9.8/9.8 MB 34.9 MB/s eta 0:00:01\n",
      "     ---------------------------------------  9.8/9.8 MB 34.9 MB/s eta 0:00:01\n",
      "     ---------------------------------------- 9.8/9.8 MB 20.9 MB/s eta 0:00:00\n",
      "Collecting seaborn\n",
      "  Downloading seaborn-0.13.2-py3-none-any.whl (294 kB)\n",
      "     ---------------------------------------- 0.0/294.9 kB ? eta -:--:--\n",
      "     ---------------------------------------- 294.9/294.9 kB ? eta 0:00:00\n",
      "Requirement already satisfied: numpy in c:\\users\\mariano\\appdata\\local\\programs\\python\\python310\\lib\\site-packages (2.2.6)\n",
      "Collecting narwhals>=1.15.1\n",
      "  Downloading narwhals-2.8.0-py3-none-any.whl (415 kB)\n",
      "     ---------------------------------------- 0.0/415.9 kB ? eta -:--:--\n",
      "     -------------------------------------- 415.9/415.9 kB 8.6 MB/s eta 0:00:00\n",
      "Requirement already satisfied: packaging in c:\\users\\mariano\\appdata\\roaming\\python\\python310\\site-packages (from plotly) (25.0)\n",
      "Requirement already satisfied: matplotlib!=3.6.1,>=3.4 in c:\\users\\mariano\\appdata\\local\\programs\\python\\python310\\lib\\site-packages (from seaborn) (3.10.7)\n",
      "Requirement already satisfied: pandas>=1.2 in c:\\users\\mariano\\appdata\\local\\programs\\python\\python310\\lib\\site-packages (from seaborn) (2.3.3)\n",
      "Requirement already satisfied: python-dateutil>=2.7 in c:\\users\\mariano\\appdata\\roaming\\python\\python310\\site-packages (from matplotlib!=3.6.1,>=3.4->seaborn) (2.9.0.post0)\n",
      "Requirement already satisfied: contourpy>=1.0.1 in c:\\users\\mariano\\appdata\\local\\programs\\python\\python310\\lib\\site-packages (from matplotlib!=3.6.1,>=3.4->seaborn) (1.3.2)\n",
      "Requirement already satisfied: pillow>=8 in c:\\users\\mariano\\appdata\\local\\programs\\python\\python310\\lib\\site-packages (from matplotlib!=3.6.1,>=3.4->seaborn) (11.3.0)\n",
      "Requirement already satisfied: pyparsing>=3 in c:\\users\\mariano\\appdata\\local\\programs\\python\\python310\\lib\\site-packages (from matplotlib!=3.6.1,>=3.4->seaborn) (3.2.5)\n",
      "Requirement already satisfied: kiwisolver>=1.3.1 in c:\\users\\mariano\\appdata\\local\\programs\\python\\python310\\lib\\site-packages (from matplotlib!=3.6.1,>=3.4->seaborn) (1.4.9)\n",
      "Requirement already satisfied: cycler>=0.10 in c:\\users\\mariano\\appdata\\local\\programs\\python\\python310\\lib\\site-packages (from matplotlib!=3.6.1,>=3.4->seaborn) (0.12.1)\n",
      "Requirement already satisfied: fonttools>=4.22.0 in c:\\users\\mariano\\appdata\\local\\programs\\python\\python310\\lib\\site-packages (from matplotlib!=3.6.1,>=3.4->seaborn) (4.60.1)\n",
      "Requirement already satisfied: pytz>=2020.1 in c:\\users\\mariano\\appdata\\local\\programs\\python\\python310\\lib\\site-packages (from pandas>=1.2->seaborn) (2025.2)\n",
      "Requirement already satisfied: tzdata>=2022.7 in c:\\users\\mariano\\appdata\\local\\programs\\python\\python310\\lib\\site-packages (from pandas>=1.2->seaborn) (2025.2)\n",
      "Requirement already satisfied: six>=1.5 in c:\\users\\mariano\\appdata\\roaming\\python\\python310\\site-packages (from python-dateutil>=2.7->matplotlib!=3.6.1,>=3.4->seaborn) (1.17.0)\n",
      "Installing collected packages: narwhals, plotly, seaborn\n",
      "Successfully installed narwhals-2.8.0 plotly-6.3.1 seaborn-0.13.2\n"
     ]
    },
    {
     "name": "stderr",
     "output_type": "stream",
     "text": [
      "  WARNING: The script plotly_get_chrome.exe is installed in 'c:\\Users\\Mariano\\AppData\\Local\\Programs\\Python\\Python310\\Scripts' which is not on PATH.\n",
      "  Consider adding this directory to PATH or, if you prefer to suppress this warning, use --no-warn-script-location.\n",
      "\n",
      "[notice] A new release of pip is available: 23.0.1 -> 25.2\n",
      "[notice] To update, run: python.exe -m pip install --upgrade pip\n"
     ]
    }
   ],
   "source": [
    "import sys\n",
    "!{sys.executable} -m pip install plotly seaborn numpy\n",
    "# en particular este es el modo en que debo instalar mis librerias"
   ]
  },
  {
   "cell_type": "code",
   "execution_count": 3,
   "id": "916038af",
   "metadata": {},
   "outputs": [
    {
     "name": "stdout",
     "output_type": "stream",
     "text": [
      "✅ ¡Todas las librerías importadas correctamente!\n",
      "📊 Estamos listos para visualizar datos ambientales\n"
     ]
    }
   ],
   "source": [
    "# === IMPORTAR TODAS LAS LIBRERÍAS ===\n",
    "\n",
    "import pandas as pd              # Manipulación de datos\n",
    "import matplotlib.pyplot as plt  # Gráficos estáticos\n",
    "import plotly.express as px      # Gráficos interactivos (simple)\n",
    "import plotly.graph_objects as go # Gráficos interactivos (avanzado)\n",
    "import seaborn as sns            # Visualizaciones estadísticas\n",
    "import numpy as np               # Operaciones numéricas\n",
    "import nbformat \n",
    "\n",
    "# Configuración de estilo para matplotlib\n",
    "plt.style.use('seaborn-v0_8-darkgrid')  # Estilo elegante con cuadrícula\n",
    "sns.set_palette(\"husl\")                 # Paleta de colores armoniosa\n",
    "\n",
    "print(\"✅ ¡Todas las librerías importadas correctamente!\")\n",
    "print(\"📊 Estamos listos para visualizar datos ambientales\")\n"
   ]
  },
  {
   "cell_type": "markdown",
   "id": "5f3d407b",
   "metadata": {},
   "source": [
    "---\n",
    "\n",
    "## 📈 Parte 1: Fundamentos de Visualización de Datos\n",
    "\n",
    "### 🎯 **¿Por qué visualizar datos?**\n",
    "\n",
    ">\"Un gráfico vale más que mil números\"\n",
    "\n",
    "La visualización de datos nos permite:\n",
    "- ✅ **Detectar patrones** que son invisibles en tablas\n",
    "- ✅ **Identificar outliers** (valores anómalos)\n",
    "- ✅ **Comunicar resultados** de forma efectiva\n",
    "- ✅ **Tomar decisiones** basadas en evidencia\n",
    "\n",
    "---\n",
    "\n",
    "### 📊 **Tipos de Gráficos Principales**\n",
    "\n",
    "| Tipo de Gráfico | Cuándo Usarlo | Ejemplo Ambiental |\n",
    "|------------------|---------------|-------------------|\n",
    "| **Líneas** | Series temporales, tendencias | Evolución de temperatura |\n",
    "| **Barras** | Comparar categorías | Contaminantes por distrito |\n",
    "| **Boxplot** | Distribución y outliers | Rangos de PM10 mensual |\n",
    "| **Scatter** | Relación entre 2 variables | PM10 vs temperatura |\n",
    "| **Heatmap** | Patrones en 2 dimensiones | Hora vs día de la semana |\n",
    "\n",
    "---\n",
    "\n",
    "### 🔄 **Matplotlib vs Plotly**\n",
    "\n",
    "| Característica | Matplotlib | Plotly |\n",
    "|----------------|----------|--------|\n",
    "| **Tipo** | Estático | Interactivo |\n",
    "| **Velocidad** | Rápido | Más lento |\n",
    "| **Interactividad** | ❌ No | ✅ Zoom, hover, download |\n",
    "| **Facilidad** | Medio | Fácil |\n",
    "| **Uso** | Reportes PDF | Dashboards web |\n",
    "\n",
    "**💡 Recomendación:** Usa Matplotlib para exploración rápida y Plotly para presentaciones."
   ]
  },
  {
   "cell_type": "markdown",
   "id": "6653af9c",
   "metadata": {},
   "source": [
    "## 📈 Parte 1: Tu Primer Gráfico Interactivo con Plotly\n",
    "\n",
    "### 🎯 **Objetivo:**\n",
    "Crear un gráfico de **serie temporal** para visualizar la evolución de PM10 (material particulado) en una estación de monitoreo.\n",
    "\n",
    "---\n",
    "\n",
    "### 🤔 **¿Qué es una serie temporal?**\n",
    "\n",
    "Una **serie temporal** es una secuencia de datos ordenados en el tiempo. En nuestro caso:\n",
    "- **Eje X (horizontal)**: Fecha y hora\n",
    "- **Eje Y (vertical)**: Concentración de PM10 (µg/m³)\n",
    "\n",
    "**Ejemplo del mundo real:** Es como ver la temperatura de tu ciudad hora por hora durante un mes.\n",
    "\n",
    "---\n",
    "\n",
    "### 📊 **¿Por qué Plotly?**\n",
    "\n",
    "Plotly crea gráficos **interactivos** que permiten:\n",
    "- ✅ **Hacer zoom** arrastrando el mouse\n",
    "- ✅ **Ver valores exactos** al pasar el cursor\n",
    "- ✅ **Descargar** el gráfico como imagen\n",
    "- ✅ **Activar/desactivar** series de datos\n",
    "\n",
    "---\n",
    "\n",
    "### 🔍 **Paso a paso del código:**\n",
    "\n",
    "1. **Cargar datos** del archivo CSV\n",
    "2. **Convertir** fechas y horas al formato correcto\n",
    "3. **Filtrar** solo la estación \"Campo de Marte\"\n",
    "4. **Crear** el gráfico interactivo\n",
    "5. **Personalizar** colores y títulos\n",
    "6. **Mostrar** el resultado"
   ]
  },
  {
   "cell_type": "code",
   "execution_count": 23,
   "id": "c0c53548",
   "metadata": {},
   "outputs": [
    {
     "name": "stderr",
     "output_type": "stream",
     "text": [
      "\n",
      "Usage:   \n",
      "  c:\\Users\\Mariano\\AppData\\Local\\Programs\\Python\\Python310\\python.exe -m pip install [options] <requirement specifier> [package-index-options] ...\n",
      "  c:\\Users\\Mariano\\AppData\\Local\\Programs\\Python\\Python310\\python.exe -m pip install [options] -r <requirements file> [package-index-options] ...\n",
      "  c:\\Users\\Mariano\\AppData\\Local\\Programs\\Python\\Python310\\python.exe -m pip install [options] [-e] <vcs project url> ...\n",
      "  c:\\Users\\Mariano\\AppData\\Local\\Programs\\Python\\Python310\\python.exe -m pip install [options] [-e] <local project path> ...\n",
      "  c:\\Users\\Mariano\\AppData\\Local\\Programs\\Python\\Python310\\python.exe -m pip install [options] <archive url/path> ...\n",
      "\n",
      "no such option: --version4.2.0\n"
     ]
    }
   ],
   "source": [
    "import sys\n",
    "!{sys.executable} -m pip install nbformat --version4.2.0\n",
    "# en particular este es el modo en que debo instalar mis librerias"
   ]
  },
  {
   "cell_type": "code",
   "execution_count": null,
   "id": "3d5a955c",
   "metadata": {},
   "outputs": [
    {
     "name": "stdout",
     "output_type": "stream",
     "text": [
      "📊 EJEMPLO: Creando un gráfico de línea básico\n",
      "\n"
     ]
    },
    {
     "data": {
      "application/vnd.plotly.v1+json": {
       "config": {
        "plotlyServerURL": "https://plot.ly"
       },
       "data": [
        {
         "hovertemplate": "Día=%{x}<br>Temperatura (°C)=%{y}<extra></extra>",
         "legendgroup": "",
         "line": {
          "color": "orange",
          "dash": "solid",
          "width": 3
         },
         "marker": {
          "size": 10,
          "symbol": "circle"
         },
         "mode": "lines+markers",
         "name": "",
         "orientation": "v",
         "showlegend": false,
         "type": "scatter",
         "x": [
          "Lun",
          "Mar",
          "Mié",
          "Jue",
          "Vie",
          "Sáb",
          "Dom"
         ],
         "xaxis": "x",
         "y": {
          "bdata": "FhgXGRocGw==",
          "dtype": "i1"
         },
         "yaxis": "y"
        }
       ],
       "layout": {
        "height": 400,
        "legend": {
         "tracegroupgap": 0
        },
        "template": {
         "data": {
          "bar": [
           {
            "error_x": {
             "color": "#2a3f5f"
            },
            "error_y": {
             "color": "#2a3f5f"
            },
            "marker": {
             "line": {
              "color": "#E5ECF6",
              "width": 0.5
             },
             "pattern": {
              "fillmode": "overlay",
              "size": 10,
              "solidity": 0.2
             }
            },
            "type": "bar"
           }
          ],
          "barpolar": [
           {
            "marker": {
             "line": {
              "color": "#E5ECF6",
              "width": 0.5
             },
             "pattern": {
              "fillmode": "overlay",
              "size": 10,
              "solidity": 0.2
             }
            },
            "type": "barpolar"
           }
          ],
          "carpet": [
           {
            "aaxis": {
             "endlinecolor": "#2a3f5f",
             "gridcolor": "white",
             "linecolor": "white",
             "minorgridcolor": "white",
             "startlinecolor": "#2a3f5f"
            },
            "baxis": {
             "endlinecolor": "#2a3f5f",
             "gridcolor": "white",
             "linecolor": "white",
             "minorgridcolor": "white",
             "startlinecolor": "#2a3f5f"
            },
            "type": "carpet"
           }
          ],
          "choropleth": [
           {
            "colorbar": {
             "outlinewidth": 0,
             "ticks": ""
            },
            "type": "choropleth"
           }
          ],
          "contour": [
           {
            "colorbar": {
             "outlinewidth": 0,
             "ticks": ""
            },
            "colorscale": [
             [
              0,
              "#0d0887"
             ],
             [
              0.1111111111111111,
              "#46039f"
             ],
             [
              0.2222222222222222,
              "#7201a8"
             ],
             [
              0.3333333333333333,
              "#9c179e"
             ],
             [
              0.4444444444444444,
              "#bd3786"
             ],
             [
              0.5555555555555556,
              "#d8576b"
             ],
             [
              0.6666666666666666,
              "#ed7953"
             ],
             [
              0.7777777777777778,
              "#fb9f3a"
             ],
             [
              0.8888888888888888,
              "#fdca26"
             ],
             [
              1,
              "#f0f921"
             ]
            ],
            "type": "contour"
           }
          ],
          "contourcarpet": [
           {
            "colorbar": {
             "outlinewidth": 0,
             "ticks": ""
            },
            "type": "contourcarpet"
           }
          ],
          "heatmap": [
           {
            "colorbar": {
             "outlinewidth": 0,
             "ticks": ""
            },
            "colorscale": [
             [
              0,
              "#0d0887"
             ],
             [
              0.1111111111111111,
              "#46039f"
             ],
             [
              0.2222222222222222,
              "#7201a8"
             ],
             [
              0.3333333333333333,
              "#9c179e"
             ],
             [
              0.4444444444444444,
              "#bd3786"
             ],
             [
              0.5555555555555556,
              "#d8576b"
             ],
             [
              0.6666666666666666,
              "#ed7953"
             ],
             [
              0.7777777777777778,
              "#fb9f3a"
             ],
             [
              0.8888888888888888,
              "#fdca26"
             ],
             [
              1,
              "#f0f921"
             ]
            ],
            "type": "heatmap"
           }
          ],
          "histogram": [
           {
            "marker": {
             "pattern": {
              "fillmode": "overlay",
              "size": 10,
              "solidity": 0.2
             }
            },
            "type": "histogram"
           }
          ],
          "histogram2d": [
           {
            "colorbar": {
             "outlinewidth": 0,
             "ticks": ""
            },
            "colorscale": [
             [
              0,
              "#0d0887"
             ],
             [
              0.1111111111111111,
              "#46039f"
             ],
             [
              0.2222222222222222,
              "#7201a8"
             ],
             [
              0.3333333333333333,
              "#9c179e"
             ],
             [
              0.4444444444444444,
              "#bd3786"
             ],
             [
              0.5555555555555556,
              "#d8576b"
             ],
             [
              0.6666666666666666,
              "#ed7953"
             ],
             [
              0.7777777777777778,
              "#fb9f3a"
             ],
             [
              0.8888888888888888,
              "#fdca26"
             ],
             [
              1,
              "#f0f921"
             ]
            ],
            "type": "histogram2d"
           }
          ],
          "histogram2dcontour": [
           {
            "colorbar": {
             "outlinewidth": 0,
             "ticks": ""
            },
            "colorscale": [
             [
              0,
              "#0d0887"
             ],
             [
              0.1111111111111111,
              "#46039f"
             ],
             [
              0.2222222222222222,
              "#7201a8"
             ],
             [
              0.3333333333333333,
              "#9c179e"
             ],
             [
              0.4444444444444444,
              "#bd3786"
             ],
             [
              0.5555555555555556,
              "#d8576b"
             ],
             [
              0.6666666666666666,
              "#ed7953"
             ],
             [
              0.7777777777777778,
              "#fb9f3a"
             ],
             [
              0.8888888888888888,
              "#fdca26"
             ],
             [
              1,
              "#f0f921"
             ]
            ],
            "type": "histogram2dcontour"
           }
          ],
          "mesh3d": [
           {
            "colorbar": {
             "outlinewidth": 0,
             "ticks": ""
            },
            "type": "mesh3d"
           }
          ],
          "parcoords": [
           {
            "line": {
             "colorbar": {
              "outlinewidth": 0,
              "ticks": ""
             }
            },
            "type": "parcoords"
           }
          ],
          "pie": [
           {
            "automargin": true,
            "type": "pie"
           }
          ],
          "scatter": [
           {
            "fillpattern": {
             "fillmode": "overlay",
             "size": 10,
             "solidity": 0.2
            },
            "type": "scatter"
           }
          ],
          "scatter3d": [
           {
            "line": {
             "colorbar": {
              "outlinewidth": 0,
              "ticks": ""
             }
            },
            "marker": {
             "colorbar": {
              "outlinewidth": 0,
              "ticks": ""
             }
            },
            "type": "scatter3d"
           }
          ],
          "scattercarpet": [
           {
            "marker": {
             "colorbar": {
              "outlinewidth": 0,
              "ticks": ""
             }
            },
            "type": "scattercarpet"
           }
          ],
          "scattergeo": [
           {
            "marker": {
             "colorbar": {
              "outlinewidth": 0,
              "ticks": ""
             }
            },
            "type": "scattergeo"
           }
          ],
          "scattergl": [
           {
            "marker": {
             "colorbar": {
              "outlinewidth": 0,
              "ticks": ""
             }
            },
            "type": "scattergl"
           }
          ],
          "scattermap": [
           {
            "marker": {
             "colorbar": {
              "outlinewidth": 0,
              "ticks": ""
             }
            },
            "type": "scattermap"
           }
          ],
          "scattermapbox": [
           {
            "marker": {
             "colorbar": {
              "outlinewidth": 0,
              "ticks": ""
             }
            },
            "type": "scattermapbox"
           }
          ],
          "scatterpolar": [
           {
            "marker": {
             "colorbar": {
              "outlinewidth": 0,
              "ticks": ""
             }
            },
            "type": "scatterpolar"
           }
          ],
          "scatterpolargl": [
           {
            "marker": {
             "colorbar": {
              "outlinewidth": 0,
              "ticks": ""
             }
            },
            "type": "scatterpolargl"
           }
          ],
          "scatterternary": [
           {
            "marker": {
             "colorbar": {
              "outlinewidth": 0,
              "ticks": ""
             }
            },
            "type": "scatterternary"
           }
          ],
          "surface": [
           {
            "colorbar": {
             "outlinewidth": 0,
             "ticks": ""
            },
            "colorscale": [
             [
              0,
              "#0d0887"
             ],
             [
              0.1111111111111111,
              "#46039f"
             ],
             [
              0.2222222222222222,
              "#7201a8"
             ],
             [
              0.3333333333333333,
              "#9c179e"
             ],
             [
              0.4444444444444444,
              "#bd3786"
             ],
             [
              0.5555555555555556,
              "#d8576b"
             ],
             [
              0.6666666666666666,
              "#ed7953"
             ],
             [
              0.7777777777777778,
              "#fb9f3a"
             ],
             [
              0.8888888888888888,
              "#fdca26"
             ],
             [
              1,
              "#f0f921"
             ]
            ],
            "type": "surface"
           }
          ],
          "table": [
           {
            "cells": {
             "fill": {
              "color": "#EBF0F8"
             },
             "line": {
              "color": "white"
             }
            },
            "header": {
             "fill": {
              "color": "#C8D4E3"
             },
             "line": {
              "color": "white"
             }
            },
            "type": "table"
           }
          ]
         },
         "layout": {
          "annotationdefaults": {
           "arrowcolor": "#2a3f5f",
           "arrowhead": 0,
           "arrowwidth": 1
          },
          "autotypenumbers": "strict",
          "coloraxis": {
           "colorbar": {
            "outlinewidth": 0,
            "ticks": ""
           }
          },
          "colorscale": {
           "diverging": [
            [
             0,
             "#8e0152"
            ],
            [
             0.1,
             "#c51b7d"
            ],
            [
             0.2,
             "#de77ae"
            ],
            [
             0.3,
             "#f1b6da"
            ],
            [
             0.4,
             "#fde0ef"
            ],
            [
             0.5,
             "#f7f7f7"
            ],
            [
             0.6,
             "#e6f5d0"
            ],
            [
             0.7,
             "#b8e186"
            ],
            [
             0.8,
             "#7fbc41"
            ],
            [
             0.9,
             "#4d9221"
            ],
            [
             1,
             "#276419"
            ]
           ],
           "sequential": [
            [
             0,
             "#0d0887"
            ],
            [
             0.1111111111111111,
             "#46039f"
            ],
            [
             0.2222222222222222,
             "#7201a8"
            ],
            [
             0.3333333333333333,
             "#9c179e"
            ],
            [
             0.4444444444444444,
             "#bd3786"
            ],
            [
             0.5555555555555556,
             "#d8576b"
            ],
            [
             0.6666666666666666,
             "#ed7953"
            ],
            [
             0.7777777777777778,
             "#fb9f3a"
            ],
            [
             0.8888888888888888,
             "#fdca26"
            ],
            [
             1,
             "#f0f921"
            ]
           ],
           "sequentialminus": [
            [
             0,
             "#0d0887"
            ],
            [
             0.1111111111111111,
             "#46039f"
            ],
            [
             0.2222222222222222,
             "#7201a8"
            ],
            [
             0.3333333333333333,
             "#9c179e"
            ],
            [
             0.4444444444444444,
             "#bd3786"
            ],
            [
             0.5555555555555556,
             "#d8576b"
            ],
            [
             0.6666666666666666,
             "#ed7953"
            ],
            [
             0.7777777777777778,
             "#fb9f3a"
            ],
            [
             0.8888888888888888,
             "#fdca26"
            ],
            [
             1,
             "#f0f921"
            ]
           ]
          },
          "colorway": [
           "#636efa",
           "#EF553B",
           "#00cc96",
           "#ab63fa",
           "#FFA15A",
           "#19d3f3",
           "#FF6692",
           "#B6E880",
           "#FF97FF",
           "#FECB52"
          ],
          "font": {
           "color": "#2a3f5f"
          },
          "geo": {
           "bgcolor": "white",
           "lakecolor": "white",
           "landcolor": "#E5ECF6",
           "showlakes": true,
           "showland": true,
           "subunitcolor": "white"
          },
          "hoverlabel": {
           "align": "left"
          },
          "hovermode": "closest",
          "mapbox": {
           "style": "light"
          },
          "paper_bgcolor": "white",
          "plot_bgcolor": "#E5ECF6",
          "polar": {
           "angularaxis": {
            "gridcolor": "white",
            "linecolor": "white",
            "ticks": ""
           },
           "bgcolor": "#E5ECF6",
           "radialaxis": {
            "gridcolor": "white",
            "linecolor": "white",
            "ticks": ""
           }
          },
          "scene": {
           "xaxis": {
            "backgroundcolor": "#E5ECF6",
            "gridcolor": "white",
            "gridwidth": 2,
            "linecolor": "white",
            "showbackground": true,
            "ticks": "",
            "zerolinecolor": "white"
           },
           "yaxis": {
            "backgroundcolor": "#E5ECF6",
            "gridcolor": "white",
            "gridwidth": 2,
            "linecolor": "white",
            "showbackground": true,
            "ticks": "",
            "zerolinecolor": "white"
           },
           "zaxis": {
            "backgroundcolor": "#E5ECF6",
            "gridcolor": "white",
            "gridwidth": 2,
            "linecolor": "white",
            "showbackground": true,
            "ticks": "",
            "zerolinecolor": "white"
           }
          },
          "shapedefaults": {
           "line": {
            "color": "#2a3f5f"
           }
          },
          "ternary": {
           "aaxis": {
            "gridcolor": "white",
            "linecolor": "white",
            "ticks": ""
           },
           "baxis": {
            "gridcolor": "white",
            "linecolor": "white",
            "ticks": ""
           },
           "bgcolor": "#E5ECF6",
           "caxis": {
            "gridcolor": "white",
            "linecolor": "white",
            "ticks": ""
           }
          },
          "title": {
           "x": 0.05
          },
          "xaxis": {
           "automargin": true,
           "gridcolor": "white",
           "linecolor": "white",
           "ticks": "",
           "title": {
            "standoff": 15
           },
           "zerolinecolor": "white",
           "zerolinewidth": 2
          },
          "yaxis": {
           "automargin": true,
           "gridcolor": "white",
           "linecolor": "white",
           "ticks": "",
           "title": {
            "standoff": 15
           },
           "zerolinecolor": "white",
           "zerolinewidth": 2
          }
         }
        },
        "title": {
         "text": "🌡️ Temperatura Semanal"
        },
        "xaxis": {
         "anchor": "y",
         "domain": [
          0,
          1
         ],
         "title": {
          "text": "Día"
         }
        },
        "yaxis": {
         "anchor": "x",
         "domain": [
          0,
          1
         ],
         "title": {
          "text": "Temperatura (°C)"
         }
        }
       }
      }
     },
     "metadata": {},
     "output_type": "display_data"
    },
    {
     "name": "stdout",
     "output_type": "stream",
     "text": [
      "\n",
      "✅ ¡Gráfico creado!\n",
      "💡 Pasa el mouse sobre los puntos para ver los valores exactos\n"
     ]
    }
   ],
   "source": [
    "# === EJEMPLO 1: Gráfico Simple con Plotly ===\n",
    "\n",
    "print(\"📊 EJEMPLO: Creando un gráfico de línea básico\\n\")\n",
    "\n",
    "# Datos de ejemplo: Temperaturas de una semana\n",
    "dias = ['Lun', 'Mar', 'Mié', 'Jue', 'Vie', 'Sáb', 'Dom']\n",
    "temperaturas = [22, 24, 23, 25, 26, 28, 27]\n",
    "\n",
    "# Crear DataFrame\n",
    "df_temp = pd.DataFrame({\n",
    "    'Día': dias,\n",
    "    'Temperatura (°C)': temperaturas\n",
    "})\n",
    "\n",
    "# Crear gráfico interactivo\n",
    "fig = px.line(\n",
    "    df_temp,\n",
    "    x='Día',\n",
    "    y='Temperatura (°C)',\n",
    "    title='🌡️ Temperatura Semanal',\n",
    "    markers=True  # Mostrar puntos en la línea\n",
    ")\n",
    "\n",
    "# Personalizar\n",
    "fig.update_traces(line_color='orange', line_width=3, marker_size=10)\n",
    "fig.update_layout(height=400)\n",
    "\n",
    "fig.show()\n",
    "\n",
    "print(\"\\n✅ ¡Gráfico creado!\")\n",
    "print(\"💡 Pasa el mouse sobre los puntos para ver los valores exactos\")\n"
   ]
  },
  {
   "cell_type": "markdown",
   "id": "d86d3a14",
   "metadata": {},
   "source": [
    "---\n",
    "\n",
    "## 📊 Parte 2: Análisis de Cobertura de Datos\n",
    "\n",
    "### 🤔 **¿Qué es la cobertura de datos?**\n",
    "\n",
    "En datos ambientales, no siempre tenemos mediciones para todas las horas. La **cobertura** nos dice:\n",
    "- ✅ **Cuántos datos tenemos** vs cuántos deberíamos tener\n",
    "- ✅ **Dónde hay huecos** (datos faltantes)\n",
    "- ✅ **Qué tan confiable** es nuestro análisis\n",
    "\n",
    "**Ejemplo:**\n",
    "```\n",
    "Si esperamos 24 mediciones al día (una por hora)\n",
    "y solo tenemos 18 mediciones\n",
    "→ Cobertura = 18/24 = 75%\n",
    "```\n",
    "\n",
    "---\n",
    "\n",
    "### 🔍 **¿Por qué faltan datos?**\n",
    "\n",
    "1. **Fallas técnicas** - Sensor desconectado\n",
    "2. **Mantenimiento** - Calibración del equipo\n",
    "3. **Eventos extremos** - Cortes de energía\n",
    "4. **Errores de transmisión** - Problemas de conectividad\n",
    "\n",
    "---\n",
    "\n",
    "### 📈 **Lo que haremos:**\n",
    "\n",
    "1. Cargar datos de contaminantes\n",
    "2. Seleccionar estación y variable interactivamente\n",
    "3. Analizar cobertura temporal (mensual y horaria)\n",
    "4. Visualizar datos con huecos sombreados en rojo"
   ]
  },
  {
   "cell_type": "code",
   "execution_count": 8,
   "id": "7a86976b",
   "metadata": {},
   "outputs": [
    {
     "name": "stdout",
     "output_type": "stream",
     "text": [
      "\n",
      "Selecciona la estación que quieres analizar:\n",
      "   1. CAMPO_DE_MARTE\n",
      "   2. CARABAYLLO\n",
      "   3. SANTA_ANITA\n",
      "   4. SAN_BORJA\n",
      "   5. SAN_JUAN_DE_LURIGANCHO\n",
      "   6. SAN_MARTIN_DE_PORRES\n",
      "   7. VILLA_MARIA_DEL_TRIUNFO\n",
      "\n",
      "Selecciona la variable de contaminante:\n",
      "   1. PM10\n",
      "   2. PM2_5\n",
      "   3. NO2\n",
      "\n",
      "Elige periodo a analizar:\n",
      "  1. Todo el rango disponible\n",
      "  2. Un año específico\n",
      "\n",
      "--- RESUMEN GENERAL ---\n",
      "Estación: CAMPO_DE_MARTE\n",
      "Variable: PM10\n",
      "Periodo : 2015-01-01 a 2024-05-31\n",
      "Datos presentes : 62301\n",
      "Datos faltantes : 20230\n",
      "Cobertura total : 75.49%\n",
      "\n",
      "--- Cobertura mensual ---\n",
      "  month  sum  count  coverage_%\n",
      "2015-01  734    739       99.32\n",
      "2015-02  629    672       93.60\n",
      "2015-03  672    744       90.32\n",
      "2015-04  720    720      100.00\n",
      "2015-05  744    744      100.00\n",
      "2015-06  671    720       93.19\n",
      "2015-07  735    744       98.79\n",
      "2015-08  497    744       66.80\n",
      "2015-09  188    720       26.11\n",
      "2015-10  687    744       92.34\n",
      "2015-11  672    720       93.33\n",
      "2015-12  645    744       86.69\n",
      "2016-01  619    744       83.20\n",
      "2016-02  696    696      100.00\n",
      "2016-03  738    744       99.19\n",
      "2016-04  720    720      100.00\n",
      "2016-05  717    744       96.37\n",
      "2016-06  509    720       70.69\n",
      "2016-07  743    744       99.87\n",
      "2016-08  744    744      100.00\n",
      "2016-09  713    720       99.03\n",
      "2016-10  676    744       90.86\n",
      "2016-11  719    720       99.86\n",
      "2016-12  521    744       70.03\n",
      "2017-01  319    744       42.88\n",
      "2017-02  672    672      100.00\n",
      "2017-03  735    744       98.79\n",
      "2017-04  716    720       99.44\n",
      "2017-05  744    744      100.00\n",
      "2017-06  701    720       97.36\n",
      "2017-07  694    744       93.28\n",
      "2017-08  679    744       91.26\n",
      "2017-09  711    720       98.75\n",
      "2017-10  585    744       78.63\n",
      "2017-11  720    720      100.00\n",
      "2017-12  722    744       97.04\n",
      "2018-01  183    744       24.60\n",
      "2018-02  434    672       64.58\n",
      "2018-03  714    744       95.97\n",
      "2018-04  634    720       88.06\n",
      "2018-05  733    744       98.52\n",
      "2018-06  720    720      100.00\n",
      "2018-07  742    744       99.73\n",
      "2018-08  713    744       95.83\n",
      "2018-09  720    720      100.00\n",
      "2018-10  542    744       72.85\n",
      "2018-11  607    720       84.31\n",
      "2018-12  744    744      100.00\n",
      "2019-01  318    744       42.74\n",
      "2019-02  672    672      100.00\n",
      "2019-03  744    744      100.00\n",
      "2019-04  712    720       98.89\n",
      "2019-05  732    744       98.39\n",
      "2019-06  714    720       99.17\n",
      "2019-07  744    744      100.00\n",
      "2019-08  688    744       92.47\n",
      "2019-09  702    720       97.50\n",
      "2019-10  730    744       98.12\n",
      "2019-11  714    720       99.17\n",
      "2019-12  744    744      100.00\n",
      "2020-01  562    744       75.54\n",
      "2020-02  696    696      100.00\n",
      "2020-03  744    744      100.00\n",
      "2020-04  720    720      100.00\n",
      "2020-05  744    744      100.00\n",
      "2020-06  720    720      100.00\n",
      "2020-07  672    744       90.32\n",
      "2020-08    5    744        0.67\n",
      "2020-09  560    720       77.78\n",
      "2020-10  207    744       27.82\n",
      "2020-11  490    720       68.06\n",
      "2020-12  684    744       91.94\n",
      "2021-01  720    744       96.77\n",
      "2021-02  522    672       77.68\n",
      "2021-03  732    744       98.39\n",
      "2021-04  720    720      100.00\n",
      "2021-05  707    744       95.03\n",
      "2021-06  603    720       83.75\n",
      "2021-07  286    744       38.44\n",
      "2021-08    0    744        0.00\n",
      "2021-09    0    720        0.00\n",
      "2021-10    0    744        0.00\n",
      "2021-11    0    720        0.00\n",
      "2021-12  119    744       15.99\n",
      "2022-01  665    744       89.38\n",
      "2022-02  589    672       87.65\n",
      "2022-03  706    744       94.89\n",
      "2022-04  584    720       81.11\n",
      "2022-05  620    744       83.33\n",
      "2022-06  635    720       88.19\n",
      "2022-07  591    744       79.44\n",
      "2022-08  648    744       87.10\n",
      "2022-09  582    720       80.83\n",
      "2022-10  587    744       78.90\n",
      "2022-11  469    720       65.14\n",
      "2022-12  720    744       96.77\n",
      "2023-01  475    744       63.84\n",
      "2023-02    0    672        0.00\n",
      "2023-03    0    744        0.00\n",
      "2023-04    0    720        0.00\n",
      "2023-05    0    744        0.00\n",
      "2023-06    0    720        0.00\n",
      "2023-07    0    744        0.00\n",
      "2023-08    0    744        0.00\n",
      "2023-09    0    720        0.00\n",
      "2023-10    0    744        0.00\n",
      "2023-11    0    720        0.00\n",
      "2023-12  239    744       32.12\n",
      "2024-01  729    744       97.98\n",
      "2024-02  696    696      100.00\n",
      "2024-03  690    744       92.74\n",
      "2024-04  720    720      100.00\n",
      "2024-05  736    744       98.92\n",
      "\n",
      "--- Cobertura por hora del día ---\n",
      " hour  sum  count  coverage_%\n",
      "    0 2605   3438       75.77\n",
      "    1 2608   3438       75.86\n",
      "    2 2608   3438       75.86\n",
      "    3 2603   3438       75.71\n",
      "    4 2597   3438       75.54\n",
      "    5 2600   3439       75.60\n",
      "    6 2599   3439       75.57\n",
      "    7 2595   3439       75.46\n",
      "    8 2594   3439       75.43\n",
      "    9 2593   3439       75.40\n",
      "   10 2591   3439       75.34\n",
      "   11 2586   3439       75.20\n",
      "   12 2591   3439       75.34\n",
      "   13 2594   3439       75.43\n",
      "   14 2593   3439       75.40\n",
      "   15 2589   3439       75.28\n",
      "   16 2588   3439       75.25\n",
      "   17 2589   3439       75.28\n",
      "   18 2592   3439       75.37\n",
      "   19 2596   3439       75.49\n",
      "   20 2597   3439       75.52\n",
      "   21 2596   3439       75.49\n",
      "   22 2592   3439       75.37\n",
      "   23 2605   3439       75.75\n"
     ]
    },
    {
     "data": {
      "image/png": "[encoded data removed]",
      "text/plain": [
       "<Figure size 1400x400 with 1 Axes>"
      ]
     },
     "metadata": {},
     "output_type": "display_data"
    },
    {
     "name": "stdout",
     "output_type": "stream",
     "text": [
      "\n",
      "Gráfico guardado en: plots_senamhi\\CAMPO_DE_MARTE_PM10_coverage.png\n"
     ]
    }
   ],
   "source": [
    "# === Visualización y análisis de series temporales de contaminantes ===\n",
    "# Adaptado para CSV SENAMHI (PM10, PM2.5, NO2)\n",
    "# Requisitos: pandas, numpy, matplotlib\n",
    "# ---------------------------------------------------------------\n",
    "\n",
    "import os\n",
    "import pandas as pd\n",
    "import numpy as np\n",
    "import matplotlib.pyplot as plt\n",
    "\n",
    "# --- CONFIGURACIÓN ---\n",
    "CSV_PATH = \"Contaminantes_SENAMHI.csv\"\n",
    "OUT_DIR = \"plots_senamhi\"\n",
    "os.makedirs(OUT_DIR, exist_ok=True)\n",
    "\n",
    "# --- FUNCIONES AUXILIARES ---\n",
    "\n",
    "def safe_parse_datetime(fecha_ser, hora_ser):\n",
    "    \"\"\"Combina columnas FECHA y HORA en un datetime robusto.\"\"\"\n",
    "    fecha_ser = fecha_ser.astype(str).str.strip()\n",
    "    hora_ser = hora_ser.astype(str).str.zfill(6)\n",
    "    combined = fecha_ser + \" \" + hora_ser\n",
    "    dt = pd.to_datetime(combined, format=\"%Y%m%d %H%M%S\", errors=\"coerce\")\n",
    "    return dt\n",
    "\n",
    "def choose_from_list(options, prompt):\n",
    "    \"\"\"Menú simple por número.\"\"\"\n",
    "    while True:\n",
    "        print(f\"\\n{prompt}\")\n",
    "        for i, opt in enumerate(options, 1):\n",
    "            print(f\"  {i:2d}. {opt}\")\n",
    "        ch = input(\"Elige por número (o 'q' para salir): \").strip()\n",
    "        if ch.lower() == \"q\":\n",
    "            return None\n",
    "        if ch.isdigit() and 1 <= int(ch) <= len(options):\n",
    "            return options[int(ch)-1]\n",
    "        print(\"Entrada inválida. Intenta otra vez.\")\n",
    "\n",
    "# --- 1. CARGAR DATOS ---\n",
    "df = pd.read_csv(CSV_PATH, encoding=\"utf-8\")\n",
    "df.columns = df.columns.str.strip()\n",
    "\n",
    "# --- 2. Crear columna datetime ---\n",
    "df[\"DATETIME\"] = safe_parse_datetime(df[\"FECHA\"], df[\"HORA\"])\n",
    "df = df.dropna(subset=[\"DATETIME\"])\n",
    "\n",
    "# --- 3. Seleccionar estación ---\n",
    "stations = sorted(df[\"ESTACION\"].dropna().unique().tolist())\n",
    "station = choose_from_list(stations, \"Selecciona la estación que quieres analizar:\")\n",
    "if station is None:\n",
    "    raise SystemExit(\"Cancelado por el usuario.\")\n",
    "df_st = df[df[\"ESTACION\"] == station].copy()\n",
    "\n",
    "# --- 4. Seleccionar variable contaminante ---\n",
    "vars_candidates = [\"PM10\", \"PM2_5\", \"NO2\"]\n",
    "avail = [v for v in vars_candidates if v in df_st.columns]\n",
    "var = choose_from_list(avail, \"Selecciona la variable de contaminante:\")\n",
    "if var is None:\n",
    "    raise SystemExit(\"Cancelado por el usuario.\")\n",
    "\n",
    "df_st[var] = pd.to_numeric(df_st[var], errors=\"coerce\")\n",
    "df_st = df_st.set_index(\"DATETIME\").sort_index()\n",
    "\n",
    "# --- 5. Elegir periodo ---\n",
    "print(\"\\nElige periodo a analizar:\")\n",
    "print(\"  1. Todo el rango disponible\")\n",
    "print(\"  2. Un año específico\")\n",
    "opt = input(\"Escribe 1 o 2: \").strip()\n",
    "if opt == \"2\":\n",
    "    year = int(input(\"Escribe el año (YYYY): \").strip())\n",
    "    start = pd.Timestamp(year=year, month=1, day=1)\n",
    "    end = pd.Timestamp(year=year, month=12, day=31, hour=23)\n",
    "else:\n",
    "    start, end = df_st.index.min(), df_st.index.max()\n",
    "\n",
    "# --- 6. Reindexar a intervalo horario continuo ---\n",
    "# Solución: eliminar duplicados agregando por promedio (o puedes usar .first() si prefieres)\n",
    "df_st_unique = df_st.groupby(df_st.index)[var].mean()\n",
    "full_idx = pd.date_range(start=start, end=end, freq=\"h\")\n",
    "series = df_st_unique.reindex(full_idx)\n",
    "n_total = len(series)\n",
    "n_present = series.notna().sum()\n",
    "n_missing = n_total - n_present\n",
    "coverage = n_present / n_total * 100\n",
    "\n",
    "print(\"\\n--- RESUMEN GENERAL ---\")\n",
    "print(f\"Estación: {station}\")\n",
    "print(f\"Variable: {var}\")\n",
    "print(f\"Periodo : {start.date()} a {end.date()}\")\n",
    "print(f\"Datos presentes : {n_present}\")\n",
    "print(f\"Datos faltantes : {n_missing}\")\n",
    "print(f\"Cobertura total : {coverage:.2f}%\")\n",
    "\n",
    "# --- 7. Cobertura mensual ---\n",
    "tbl = series.to_frame(name=\"value\")\n",
    "tbl[\"present\"] = tbl[\"value\"].notna().astype(int)\n",
    "tbl[\"month\"] = tbl.index.to_period(\"M\")\n",
    "month_summary = tbl.groupby(\"month\")[\"present\"].agg([\"sum\",\"count\"])\n",
    "month_summary[\"coverage_%\"] = (month_summary[\"sum\"] / month_summary[\"count\"] * 100).round(2)\n",
    "print(\"\\n--- Cobertura mensual ---\")\n",
    "print(month_summary.reset_index().to_string(index=False))\n",
    "\n",
    "# --- 8. Cobertura por hora ---\n",
    "tbl[\"hour\"] = tbl.index.hour\n",
    "hour_summary = tbl.groupby(\"hour\")[\"present\"].agg([\"sum\",\"count\"])\n",
    "hour_summary[\"coverage_%\"] = (hour_summary[\"sum\"] / hour_summary[\"count\"] * 100).round(2)\n",
    "print(\"\\n--- Cobertura por hora del día ---\")\n",
    "print(hour_summary.reset_index().to_string(index=False))\n",
    "\n",
    "# --- 9. GRÁFICO ---\n",
    "fig, ax = plt.subplots(figsize=(14,4))\n",
    "ax.plot(series.index, series.values, color=\"tab:blue\", lw=1.2, label=\"Datos disponibles\")\n",
    "\n",
    "# sombrear huecos\n",
    "is_nan = series.isna()\n",
    "if not is_nan.all():\n",
    "    groups = (is_nan != is_nan.shift()).cumsum()\n",
    "    for _, g in series.groupby(groups):\n",
    "        if g.isna().all():\n",
    "            ax.axvspan(g.index[0], g.index[-1] + pd.Timedelta(hours=1), color=\"red\", alpha=0.25)\n",
    "\n",
    "ax.set_title(f\"{station} — {var}\\nCobertura: {coverage:.2f}% ({n_present}/{n_total} horas con dato)\")\n",
    "ax.set_xlabel(\"Fecha\")\n",
    "ax.set_ylabel(f\"{var} (µg/m³)\")\n",
    "ax.grid(alpha=0.3)\n",
    "ax.legend(loc=\"upper right\")\n",
    "plt.tight_layout()\n",
    "plt.show()\n",
    "\n",
    "# --- 10. Guardar figura ---\n",
    "fname = f\"{station}_{var}_coverage.png\".replace(\" \", \"_\")\n",
    "out_path = os.path.join(OUT_DIR, fname)\n",
    "fig.savefig(out_path, dpi=150)\n",
    "print(f\"\\nGráfico guardado en: {out_path}\")\n"
   ]
  },
  {
   "cell_type": "markdown",
   "id": "c3ff30c6",
   "metadata": {},
   "source": [
    "---\n",
    "\n",
    "## 🔧 Parte 3: Rellenando Datos Faltantes (Interpolación)\n",
    "\n",
    "### 🤔 **¿Qué es la interpolación?**\n",
    "\n",
    "**Interpolar** = Estimar valores faltantes basándonos en los valores cercanos conocidos.\n",
    "\n",
    "**Analogía:** Si sabes que a las 10:00 AM había 50 µg/m³ de PM10 y a las 12:00 PM había 70 µg/m³, puedes estimar que a las 11:00 AM había aproximadamente 60 µg/m³.\n",
    "\n",
    "---\n",
    "\n",
    "### 📊 **Métodos de interpolación:**\n",
    "\n",
    "| Método | Descripción | Cuándo Usar |\n",
    "|--------|-------------|-------------|\n",
    "| **Linear** | Línea recta entre puntos | Cambios graduales |\n",
    "| **Time** | Considera intervalos de tiempo | Series temporales |\n",
    "| **Forward Fill (ffill)** | Repite el último valor conocido | Valores constantes |\n",
    "| **Backward Fill (bfill)** | Usa el siguiente valor | Al inicio de series |\n",
    "\n",
    "---\n",
    "\n",
    "### ⚠️ **Precauciones:**\n",
    "\n",
    "- ✅ **Huecos cortos** (1-3 horas): interpolación segura\n",
    "- ⚠️ **Huecos medianos** (4-12 horas): con precaución\n",
    "- ❌ **Huecos largos** (>12 horas): evitar interpolar\n",
    "\n",
    "---\n",
    "\n",
    "### 📈 **Lo que haremos:**\n",
    "\n",
    "1. Cargar datos de contaminantes\n",
    "2. Seleccionar estación y contaminante\n",
    "3. Crear serie temporal continua (sin huecos)\n",
    "4. Rellenar usando interpolación temporal\n",
    "5. Mostrar estadísticos y gráfico"
   ]
  },
  {
   "cell_type": "code",
   "execution_count": 16,
   "id": "4036e84c",
   "metadata": {},
   "outputs": [
    {
     "name": "stdout",
     "output_type": "stream",
     "text": [
      "\n",
      "📍 Estaciones disponibles:\n",
      "   1. CAMPO_DE_MARTE\n",
      "   2. CARABAYLLO\n",
      "   3. SANTA_ANITA\n",
      "   4. SAN_BORJA\n",
      "   5. SAN_JUAN_DE_LURIGANCHO\n",
      "   6. SAN_MARTIN_DE_PORRES\n",
      "   7. VILLA_MARIA_DEL_TRIUNFO\n",
      "\n",
      "🌫️ Contaminantes disponibles:\n",
      "   1. PM10\n",
      "   2. PM2_5\n",
      "   3. NO2\n",
      "\n",
      "📆 Rango disponible: 2015-01-01 — 2024-05-31\n",
      "\n",
      "--- ESTADÍSTICOS ---\n",
      "Rango temporal: 2015-01-01 05:00:00 — 2024-05-31 23:00:00\n",
      "Datos originales: 62301\n",
      "Huecos rellenados: 20230\n",
      "Promedio (rellenada): 28.66\n",
      "Desv. estándar: 16.67\n"
     ]
    },
    {
     "data": {
      "image/png": "[encoded data removed]",
      "text/plain": [
       "<Figure size 1400x500 with 1 Axes>"
      ]
     },
     "metadata": {},
     "output_type": "display_data"
    },
    {
     "name": "stdout",
     "output_type": "stream",
     "text": [
      "\n",
      "✅ Gráfica generada correctamente.\n"
     ]
    }
   ],
   "source": [
    "# === Serie temporal de contaminantes atmosféricos (rellenada) ===\n",
    "\n",
    "import pandas as pd\n",
    "import matplotlib.pyplot as plt\n",
    "import numpy as np\n",
    "\n",
    "# ---------------- CONFIG ----------------\n",
    "CSV_PATH = \"Contaminantes_SENAMHI.csv\"  # Cambia si es necesario\n",
    "SHORT_GAP_HOURS = 3  # Huecos cortos a interpolar\n",
    "# ----------------------------------------\n",
    "\n",
    "# ---------- Leer CSV ----------\n",
    "df = pd.read_csv(CSV_PATH)\n",
    "\n",
    "# Mostrar estaciones disponibles\n",
    "stations = sorted(df[\"ESTACION\"].dropna().unique())\n",
    "print(\"\\n📍 Estaciones disponibles:\")\n",
    "for i, s in enumerate(stations, start=1):\n",
    "    print(f\"  {i:2d}. {s}\")\n",
    "\n",
    "# Elegir estación\n",
    "while True:\n",
    "    choice = input(\"\\nElige el número de la estación: \").strip()\n",
    "    if choice.isdigit() and 1 <= int(choice) <= len(stations):\n",
    "        STATION_NAME = stations[int(choice)-1]\n",
    "        break\n",
    "    print(\"❌ Opción inválida. Intenta nuevamente.\")\n",
    "\n",
    "# Mostrar contaminantes disponibles (solo columnas numéricas relevantes)\n",
    "possible_vars = [\"PM10\", \"PM2_5\", \"NO2\"]\n",
    "vars_present = [v for v in possible_vars if v in df.columns]\n",
    "\n",
    "print(\"\\n🌫️ Contaminantes disponibles:\")\n",
    "for i, v in enumerate(vars_present, start=1):\n",
    "    print(f\"  {i:2d}. {v}\")\n",
    "\n",
    "while True:\n",
    "    choice = input(\"\\nElige el número del contaminante: \").strip()\n",
    "    if choice.isdigit() and 1 <= int(choice) <= len(vars_present):\n",
    "        VARIABLE = vars_present[int(choice)-1]\n",
    "        break\n",
    "    print(\"❌ Opción inválida. Intenta nuevamente.\")\n",
    "\n",
    "# Filtrar estación y preparar datos\n",
    "df = df[df[\"ESTACION\"].str.upper() == STATION_NAME.upper()].copy()\n",
    "df[VARIABLE] = pd.to_numeric(df[VARIABLE], errors=\"coerce\")\n",
    "\n",
    "# Combinar fecha y hora en datetime\n",
    "df[\"FECHA\"] = df[\"FECHA\"].astype(str).str.zfill(8)\n",
    "df[\"HORA\"] = df[\"HORA\"].astype(str).str.zfill(6)\n",
    "df[\"datetime\"] = pd.to_datetime(df[\"FECHA\"] + df[\"HORA\"], format=\"%Y%m%d%H%M%S\", errors=\"coerce\")\n",
    "df = df.dropna(subset=[\"datetime\"]).sort_values(\"datetime\").set_index(\"datetime\")\n",
    "\n",
    "# --- Eliminar duplicados agregando por promedio ---\n",
    "df = df.groupby(df.index)[VARIABLE].mean()\n",
    "\n",
    "# Rango total\n",
    "data_start = df.index.min().floor(\"h\")\n",
    "data_end = df.index.max().ceil(\"h\")\n",
    "\n",
    "print(f\"\\n📆 Rango disponible: {data_start.date()} — {data_end.date()}\")\n",
    "\n",
    "# ---------- Elegir periodo ----------\n",
    "while True:\n",
    "    period_choice = input(\"\\n¿Quieres graficar (1) todo el periodo o (2) un rango específico? [1/2]: \").strip()\n",
    "    if period_choice == \"1\":\n",
    "        start, end = data_start, data_end\n",
    "        break\n",
    "    elif period_choice == \"2\":\n",
    "        start_input = input(\"Fecha de inicio (YYYY-MM-DD): \").strip()\n",
    "        end_input = input(\"Fecha final (YYYY-MM-DD): \").strip()\n",
    "        try:\n",
    "            start = pd.to_datetime(start_input)\n",
    "            end = pd.to_datetime(end_input)\n",
    "            if start < data_start: start = data_start\n",
    "            if end > data_end: end = data_end\n",
    "            break\n",
    "        except Exception as e:\n",
    "            print(\"❌ Formato inválido. Usa YYYY-MM-DD.\")\n",
    "    else:\n",
    "        print(\"❌ Opción no válida.\")\n",
    "\n",
    "# ---------- Crear índice horario completo ----------\n",
    "full_index = pd.date_range(start=start, end=end, freq=\"h\")\n",
    "series_orig = df.reindex(full_index)\n",
    "\n",
    "# ---------- Rellenar huecos ----------\n",
    "series_interp = series_orig.interpolate(method=\"time\")\n",
    "filled = series_interp.ffill().bfill()\n",
    "\n",
    "# ---------- Estadísticos ----------\n",
    "print(\"\\n--- ESTADÍSTICOS ---\")\n",
    "print(f\"Rango temporal: {start} — {end}\")\n",
    "print(f\"Datos originales: {series_orig.notna().sum()}\")\n",
    "print(f\"Huecos rellenados: {series_orig.isna().sum()}\")\n",
    "print(f\"Promedio (rellenada): {filled.mean():.2f}\")\n",
    "print(f\"Desv. estándar: {filled.std():.2f}\")\n",
    "\n",
    "# ---------- Gráfica ----------\n",
    "plt.figure(figsize=(14,5))\n",
    "plt.plot(filled.index, filled, color=\"tab:blue\", linewidth=1, label=\"Serie completa (rellenada)\")\n",
    "plt.title(f\"Serie temporal de {VARIABLE} — Estación {STATION_NAME}\")\n",
    "plt.xlabel(\"Fecha\")\n",
    "plt.ylabel(f\"{VARIABLE} (µg/m³)\")\n",
    "plt.grid(alpha=0.3)\n",
    "plt.legend()\n",
    "plt.tight_layout()\n",
    "plt.show()\n",
    "\n",
    "print(\"\\n✅ Gráfica generada correctamente.\")\n"
   ]
  },
  {
   "cell_type": "markdown",
   "id": "ec3306ce",
   "metadata": {},
   "source": [
    "---\n",
    "\n",
    "## 📦 Parte 4: Boxplots (Diagramas de Caja y Bigotes)\n",
    "\n",
    "### 🤔 **¿Qué es un Boxplot?**\n",
    "\n",
    "Un **boxplot** muestra la distribución de datos usando 5 valores clave:\n",
    "\n",
    "```\n",
    "    ┌─── Valor máximo (sin outliers)\n",
    "    │\n",
    "    ├───┐\n",
    "    │   │  ← Q3 (Percentil 75): 75% de datos están por debajo\n",
    "    │   ├──── Mediana (Q2): valor central\n",
    "    │   │  ← Q1 (Percentil 25): 25% de datos están por debajo\n",
    "    ├───┘\n",
    "    │\n",
    "    └─── Valor mínimo (sin outliers)\n",
    "    \n",
    "    •   ← Outliers (valores atípicos)\n",
    "```\n",
    "\n",
    "---\n",
    "\n",
    "### 📊 **¿Cómo interpretar un Boxplot?**\n",
    "\n",
    "- **Caja grande** = Mayor variabilidad\n",
    "- **Caja pequeña** = Datos más concentrados\n",
    "- **Mediana alta en la caja** = Datos sesgados hacia arriba\n",
    "- **Puntos fuera** = Valores anómalos (outliers)\n",
    "\n",
    "**Ejemplo Ambiental:**\n",
    "```\n",
    "PM10 en Lima:\n",
    "- Mediana = 45 µg/m³  (valor típico)\n",
    "- Q1 = 30 µg/m³       (días limpios)\n",
    "- Q3 = 65 µg/m³       (días contaminados)\n",
    "- Outliers = 120 µg/m³ (eventos extremos)\n",
    "```\n",
    "\n",
    "---\n",
    "\n",
    "### 🎯 **Usos en Datos Ambientales:**\n",
    "\n",
    "✅ Comparar **contaminación por mes** (detectar estacionalidad)  \n",
    "✅ Comparar **estaciones de monitoreo** (identificar zonas críticas)  \n",
    "✅ Detectar **valores anómalos** (eventos de contaminación)  \n",
    "✅ Evaluar **calidad de datos** (variabilidad excesiva = problema)\n",
    "\n",
    "---\n",
    "\n",
    "### 📈 **Lo que haremos:**\n",
    "\n",
    "1. Cargar y preparar datos\n",
    "2. Seleccionar estación y contaminante\n",
    "3. Rellenar datos faltantes\n",
    "4. Generar boxplot **por mes** o **por año**\n",
    "5. Interpretar resultados"
   ]
  },
  {
   "cell_type": "code",
   "execution_count": 17,
   "id": "4d399646",
   "metadata": {},
   "outputs": [
    {
     "name": "stdout",
     "output_type": "stream",
     "text": [
      "\n",
      "📍 Estaciones disponibles:\n",
      "   1. CAMPO_DE_MARTE\n",
      "   2. CARABAYLLO\n",
      "   3. SANTA_ANITA\n",
      "   4. SAN_BORJA\n",
      "   5. SAN_JUAN_DE_LURIGANCHO\n",
      "   6. SAN_MARTIN_DE_PORRES\n",
      "   7. VILLA_MARIA_DEL_TRIUNFO\n",
      "\n",
      "🌫️ Contaminantes disponibles:\n",
      "   1. PM10\n",
      "   2. PM2_5\n",
      "   3. NO2\n",
      "\n",
      "📆 Rango disponible: 2015-01-01 — 2024-05-31\n"
     ]
    },
    {
     "data": {
      "text/plain": [
       "<Figure size 1200x600 with 0 Axes>"
      ]
     },
     "metadata": {},
     "output_type": "display_data"
    },
    {
     "data": {
      "image/png": "[encoded data removed]",
      "text/plain": [
       "<Figure size 640x480 with 1 Axes>"
      ]
     },
     "metadata": {},
     "output_type": "display_data"
    },
    {
     "name": "stdout",
     "output_type": "stream",
     "text": [
      "\n",
      "✅ Boxplot generado correctamente.\n"
     ]
    }
   ],
   "source": [
    "# Boxplot de contaminantes atmosféricos (rellenando huecos)\n",
    "\n",
    "import pandas as pd\n",
    "import matplotlib.pyplot as plt\n",
    "\n",
    "# ---------------- CONFIG ----------------\n",
    "CSV_PATH = \"Contaminantes_SENAMHI.csv\"  # Cambia si es necesario\n",
    "SHORT_GAP_HOURS = 3  # Huecos cortos a interpolar\n",
    "# ----------------------------------------\n",
    "\n",
    "# ---------- Leer CSV ----------\n",
    "df = pd.read_csv(CSV_PATH)\n",
    "\n",
    "# Mostrar estaciones disponibles\n",
    "stations = sorted(df[\"ESTACION\"].dropna().unique())\n",
    "print(\"\\n📍 Estaciones disponibles:\")\n",
    "for i, s in enumerate(stations, start=1):\n",
    "    print(f\"  {i:2d}. {s}\")\n",
    "\n",
    "# Elegir estación\n",
    "while True:\n",
    "    choice = input(\"\\nElige el número de la estación: \").strip()\n",
    "    if choice.isdigit() and 1 <= int(choice) <= len(stations):\n",
    "        STATION_NAME = stations[int(choice)-1]\n",
    "        break\n",
    "    print(\"❌ Opción inválida. Intenta nuevamente.\")\n",
    "\n",
    "# Mostrar contaminantes disponibles (solo columnas numéricas relevantes)\n",
    "possible_vars = [\"PM10\", \"PM2_5\", \"NO2\"]\n",
    "vars_present = [v for v in possible_vars if v in df.columns]\n",
    "\n",
    "print(\"\\n🌫️ Contaminantes disponibles:\")\n",
    "for i, v in enumerate(vars_present, start=1):\n",
    "    print(f\"  {i:2d}. {v}\")\n",
    "\n",
    "while True:\n",
    "    choice = input(\"\\nElige el número del contaminante: \").strip()\n",
    "    if choice.isdigit() and 1 <= int(choice) <= len(vars_present):\n",
    "        VARIABLE = vars_present[int(choice)-1]\n",
    "        break\n",
    "    print(\"❌ Opción inválida. Intenta nuevamente.\")\n",
    "\n",
    "# Filtrar estación y preparar datos\n",
    "df = df[df[\"ESTACION\"].str.upper() == STATION_NAME.upper()].copy()\n",
    "df[VARIABLE] = pd.to_numeric(df[VARIABLE], errors=\"coerce\")\n",
    "\n",
    "# Combinar fecha y hora en datetime\n",
    "df[\"FECHA\"] = df[\"FECHA\"].astype(str).str.zfill(8)\n",
    "df[\"HORA\"] = df[\"HORA\"].astype(str).str.zfill(6)\n",
    "df[\"datetime\"] = pd.to_datetime(df[\"FECHA\"] + df[\"HORA\"], format=\"%Y%m%d%H%M%S\", errors=\"coerce\")\n",
    "df = df.dropna(subset=[\"datetime\"]).sort_values(\"datetime\").set_index(\"datetime\")\n",
    "\n",
    "# --- Eliminar duplicados agregando por promedio ---\n",
    "df = df.groupby(df.index)[VARIABLE].mean()\n",
    "\n",
    "# Rango total\n",
    "data_start = df.index.min().floor(\"h\")\n",
    "data_end = df.index.max().ceil(\"h\")\n",
    "\n",
    "print(f\"\\n📆 Rango disponible: {data_start.date()} — {data_end.date()}\")\n",
    "\n",
    "# ---------- Elegir periodo ----------\n",
    "while True:\n",
    "    period_choice = input(\"\\n¿Quieres graficar (1) todo el periodo o (2) un rango específico? [1/2]: \").strip()\n",
    "    if period_choice == \"1\":\n",
    "        start, end = data_start, data_end\n",
    "        break\n",
    "    elif period_choice == \"2\":\n",
    "        start_input = input(\"Fecha de inicio (YYYY-MM-DD): \").strip()\n",
    "        end_input = input(\"Fecha final (YYYY-MM-DD): \").strip()\n",
    "        try:\n",
    "            start = pd.to_datetime(start_input)\n",
    "            end = pd.to_datetime(end_input)\n",
    "            if start < data_start: start = data_start\n",
    "            if end > data_end: end = data_end\n",
    "            break\n",
    "        except Exception:\n",
    "            print(\"❌ Formato inválido. Usa YYYY-MM-DD.\")\n",
    "    else:\n",
    "        print(\"❌ Opción no válida.\")\n",
    "\n",
    "# ---------- Crear índice horario completo ----------\n",
    "full_index = pd.date_range(start=start, end=end, freq=\"h\")\n",
    "series_orig = df.reindex(full_index)\n",
    "\n",
    "# ---------- Rellenar huecos ----------\n",
    "series_interp = series_orig.interpolate(method=\"time\")\n",
    "filled = series_interp.ffill().bfill()\n",
    "\n",
    "# ---------- Elegir tipo de agrupación ----------\n",
    "while True:\n",
    "    group_choice = input(\"\\n¿Quieres el boxplot por (1) mes o (2) año? [1/2]: \").strip()\n",
    "    if group_choice in [\"1\", \"2\"]:\n",
    "        break\n",
    "    print(\"❌ Opción no válida.\")\n",
    "\n",
    "# Crear DataFrame temporal con valores y fechas\n",
    "df_box = filled.to_frame(name=VARIABLE)\n",
    "df_box[\"year\"] = df_box.index.year\n",
    "df_box[\"month\"] = df_box.index.month\n",
    "\n",
    "# ---------- Generar boxplot ----------\n",
    "plt.figure(figsize=(12,6))\n",
    "\n",
    "if group_choice == \"1\":\n",
    "    # Agrupar por mes (1–12)\n",
    "    df_box.boxplot(column=VARIABLE, by=\"month\", grid=False,\n",
    "                   patch_artist=True, boxprops=dict(facecolor=\"lightblue\"))\n",
    "    plt.title(f\"Distribución mensual de {VARIABLE} — Estación {STATION_NAME}\")\n",
    "    plt.suptitle(\"\")  # Elimina el subtítulo automático\n",
    "    plt.xlabel(\"Mes\")\n",
    "    plt.ylabel(f\"{VARIABLE} (µg/m³)\")\n",
    "\n",
    "else:\n",
    "    # Agrupar por año\n",
    "    df_box.boxplot(column=VARIABLE, by=\"year\", grid=False,\n",
    "                   patch_artist=True, boxprops=dict(facecolor=\"lightgreen\"))\n",
    "    plt.title(f\"Distribución anual de {VARIABLE} — Estación {STATION_NAME}\")\n",
    "    plt.suptitle(\"\")\n",
    "    plt.xlabel(\"Año\")\n",
    "    plt.ylabel(f\"{VARIABLE} (µg/m³)\")\n",
    "\n",
    "plt.grid(alpha=0.3)\n",
    "plt.tight_layout()\n",
    "plt.show()\n",
    "\n",
    "print(\"\\n✅ Boxplot generado correctamente.\")\n"
   ]
  },
  {
   "cell_type": "markdown",
   "id": "2bb9bbfa",
   "metadata": {},
   "source": [
    "---\n",
    "\n",
    "## ⚫ Parte 5: Scatterplots (Diagramas de Dispersión)\n",
    "\n",
    "### 🤔 **¿Qué es un Scatterplot?**\n",
    "\n",
    "Un **scatterplot** muestra la relación entre **dos variables** usando puntos en un plano.\n",
    "\n",
    "```\n",
    "    PM2.5 ↑\n",
    "     100  │        •  •\n",
    "      80  │     •  •  •  •\n",
    "      60  │   •  •  •  •\n",
    "      40  │ •  •  •\n",
    "      20  │•  •\n",
    "       0  └───────────────→ PM10\n",
    "          0  20  40  60  80\n",
    "```\n",
    "\n",
    "---\n",
    "\n",
    "### 📊 **Tipos de Relaciones:**\n",
    "\n",
    "| Patrón | Relación | Ejemplo Ambiental |\n",
    "|--------|----------|-------------------|\n",
    "| **Línea ascendente** | Correlación positiva | PM10 ↑ → PM2.5 ↑ |\n",
    "| **Línea descendente** | Correlación negativa | Lluvia ↑ → Contaminantes ↓ |\n",
    "| **Nube de puntos** | Sin correlación | PM10 vs hora del día |\n",
    "| **Curva** | Relación no lineal | Temperatura vs ozono |\n",
    "\n",
    "---\n",
    "\n",
    "### 📈 **Coeficiente de Correlación (r):**\n",
    "\n",
    "```\n",
    "r = 1.0   → Correlación perfecta positiva\n",
    "r = 0.7   → Correlación fuerte positiva\n",
    "r = 0.3   → Correlación débil positiva\n",
    "r = 0.0   → Sin correlación\n",
    "r = -0.7  → Correlación fuerte negativa\n",
    "r = -1.0  → Correlación perfecta negativa\n",
    "```\n",
    "\n",
    "**Ejemplo:**\n",
    "- PM10 vs PM2.5: r ≈ 0.85 (fuerte, lógico porque PM2.5 está dentro de PM10)\n",
    "- PM10 vs NO2: r ≈ 0.4 (moderada, fuentes parcialmente compartidas)\n",
    "\n",
    "---\n",
    "\n",
    "### 🎯 **Aplicaciones en Datos Ambientales:**\n",
    "\n",
    "✅ **Identificar fuentes comunes** de contaminantes  \n",
    "✅ **Validar sensores** (dos sensores cercanos deben correlacionar)  \n",
    "✅ **Estudiar meteorología** (viento vs contaminantes)  \n",
    "✅ **Detectar anomalías** (puntos muy alejados de la tendencia)\n",
    "\n",
    "---\n",
    "\n",
    "### 📈 **Lo que haremos:**\n",
    "\n",
    "1. Seleccionar estación\n",
    "2. Elegir **dos contaminantes** diferentes\n",
    "3. Rellenar datos faltantes\n",
    "4. Crear scatterplot\n",
    "5. Calcular correlación de Pearson"
   ]
  },
  {
   "cell_type": "code",
   "execution_count": 19,
   "id": "cfdddc20",
   "metadata": {},
   "outputs": [
    {
     "name": "stdout",
     "output_type": "stream",
     "text": [
      "\n",
      "📍 Estaciones disponibles:\n",
      "   1. CAMPO_DE_MARTE\n",
      "   2. CARABAYLLO\n",
      "   3. SANTA_ANITA\n",
      "   4. SAN_BORJA\n",
      "   5. SAN_JUAN_DE_LURIGANCHO\n",
      "   6. SAN_MARTIN_DE_PORRES\n",
      "   7. VILLA_MARIA_DEL_TRIUNFO\n",
      "\n",
      "🌫️ Contaminantes disponibles:\n",
      "   1. PM10\n",
      "   2. PM2_5\n",
      "   3. NO2\n",
      "\n",
      "📆 Rango disponible: 2015-01-01 — 2024-05-31\n"
     ]
    },
    {
     "data": {
      "image/png": "[encoded data removed]",
      "text/plain": [
       "<Figure size 800x600 with 1 Axes>"
      ]
     },
     "metadata": {},
     "output_type": "display_data"
    },
    {
     "name": "stdout",
     "output_type": "stream",
     "text": [
      "\n",
      "📊 Coeficiente de correlación (Pearson): 0.535\n",
      "\n",
      "✅ Scatterplot generado correctamente.\n"
     ]
    }
   ],
   "source": [
    "# Scatterplot de contaminantes atmosféricos (rellenando huecos)\n",
    "\n",
    "import pandas as pd\n",
    "import matplotlib.pyplot as plt\n",
    "\n",
    "# ---------------- CONFIG ----------------\n",
    "CSV_PATH = \"Contaminantes_SENAMHI.csv\"  # Cambia si es necesario\n",
    "# ----------------------------------------\n",
    "\n",
    "# ---------- Leer CSV ----------\n",
    "df = pd.read_csv(CSV_PATH)\n",
    "\n",
    "# Mostrar estaciones disponibles\n",
    "stations = sorted(df[\"ESTACION\"].dropna().unique())\n",
    "print(\"\\n📍 Estaciones disponibles:\")\n",
    "for i, s in enumerate(stations, start=1):\n",
    "    print(f\"  {i:2d}. {s}\")\n",
    "\n",
    "# Elegir estación\n",
    "while True:\n",
    "    choice = input(\"\\nElige el número de la estación: \").strip()\n",
    "    if choice.isdigit() and 1 <= int(choice) <= len(stations):\n",
    "        STATION_NAME = stations[int(choice)-1]\n",
    "        break\n",
    "    print(\"❌ Opción inválida. Intenta nuevamente.\")\n",
    "\n",
    "# Mostrar contaminantes disponibles\n",
    "possible_vars = [\"PM10\", \"PM2_5\", \"NO2\"]\n",
    "vars_present = [v for v in possible_vars if v in df.columns]\n",
    "\n",
    "print(\"\\n🌫️ Contaminantes disponibles:\")\n",
    "for i, v in enumerate(vars_present, start=1):\n",
    "    print(f\"  {i:2d}. {v}\")\n",
    "\n",
    "# Elegir variables para eje X y eje Y\n",
    "while True:\n",
    "    choice_x = input(\"\\nElige el número del contaminante para el eje X: \").strip()\n",
    "    choice_y = input(\"Elige el número del contaminante para el eje Y: \").strip()\n",
    "    if (choice_x.isdigit() and choice_y.isdigit() and\n",
    "        1 <= int(choice_x) <= len(vars_present) and\n",
    "        1 <= int(choice_y) <= len(vars_present) and\n",
    "        choice_x != choice_y):\n",
    "        VAR_X = vars_present[int(choice_x)-1]\n",
    "        VAR_Y = vars_present[int(choice_y)-1]\n",
    "        break\n",
    "    print(\"❌ Opción inválida. Intenta nuevamente (elige dos contaminantes distintos).\")\n",
    "\n",
    "# ---------- Filtrar estación ----------\n",
    "df = df[df[\"ESTACION\"].str.upper() == STATION_NAME.upper()].copy()\n",
    "\n",
    "# Convertir columnas numéricas\n",
    "df[VAR_X] = pd.to_numeric(df[VAR_X], errors=\"coerce\")\n",
    "df[VAR_Y] = pd.to_numeric(df[VAR_Y], errors=\"coerce\")\n",
    "\n",
    "# Combinar fecha y hora en datetime\n",
    "df[\"FECHA\"] = df[\"FECHA\"].astype(str).str.zfill(8)\n",
    "df[\"HORA\"] = df[\"HORA\"].astype(str).str.zfill(6)\n",
    "df[\"datetime\"] = pd.to_datetime(df[\"FECHA\"] + df[\"HORA\"], format=\"%Y%m%d%H%M%S\", errors=\"coerce\")\n",
    "df = df.dropna(subset=[\"datetime\"]).sort_values(\"datetime\").set_index(\"datetime\")\n",
    "\n",
    "# --- Eliminar duplicados por promedio ---\n",
    "df = df.groupby(df.index)[[VAR_X, VAR_Y]].mean()\n",
    "\n",
    "# Rango total de datos\n",
    "data_start = df.index.min().floor(\"h\")\n",
    "data_end = df.index.max().ceil(\"h\")\n",
    "\n",
    "print(f\"\\n📆 Rango disponible: {data_start.date()} — {data_end.date()}\")\n",
    "\n",
    "# ---------- Elegir periodo ----------\n",
    "while True:\n",
    "    period_choice = input(\"\\n¿Quieres graficar (1) todo el periodo o (2) un rango específico? [1/2]: \").strip()\n",
    "    if period_choice == \"1\":\n",
    "        start, end = data_start, data_end\n",
    "        break\n",
    "    elif period_choice == \"2\":\n",
    "        start_input = input(\"Fecha de inicio (YYYY-MM-DD): \").strip()\n",
    "        end_input = input(\"Fecha final (YYYY-MM-DD): \").strip()\n",
    "        try:\n",
    "            start = pd.to_datetime(start_input)\n",
    "            end = pd.to_datetime(end_input)\n",
    "            if start < data_start: start = data_start\n",
    "            if end > data_end: end = data_end\n",
    "            break\n",
    "        except Exception:\n",
    "            print(\"❌ Formato inválido. Usa YYYY-MM-DD.\")\n",
    "    else:\n",
    "        print(\"❌ Opción no válida.\")\n",
    "\n",
    "# ---------- Crear índice horario completo ----------\n",
    "full_index = pd.date_range(start=start, end=end, freq=\"h\")\n",
    "df_full = df.reindex(full_index)\n",
    "\n",
    "# ---------- Rellenar huecos ----------\n",
    "df_interp = df_full.interpolate(method=\"time\").ffill().bfill()\n",
    "\n",
    "# ---------- Gráfico de dispersión ----------\n",
    "plt.figure(figsize=(8,6))\n",
    "plt.scatter(df_interp[VAR_X], df_interp[VAR_Y], alpha=0.5, color=\"tab:blue\", edgecolor=\"k\")\n",
    "\n",
    "plt.title(f\"Relación entre {VAR_X} y {VAR_Y}\\nEstación: {STATION_NAME}\")\n",
    "plt.xlabel(f\"{VAR_X} (µg/m³)\")\n",
    "plt.ylabel(f\"{VAR_Y} (µg/m³)\")\n",
    "plt.grid(alpha=0.3)\n",
    "plt.tight_layout()\n",
    "plt.show()\n",
    "\n",
    "# ---------- Correlación ----------\n",
    "corr = df_interp[[VAR_X, VAR_Y]].corr().iloc[0,1]\n",
    "print(f\"\\n📊 Coeficiente de correlación (Pearson): {corr:.3f}\")\n",
    "\n",
    "print(\"\\n✅ Scatterplot generado correctamente.\")\n"
   ]
  },
  {
   "cell_type": "markdown",
   "id": "0f2f07af",
   "metadata": {},
   "source": [
    "---\n",
    "\n",
    "## 🔥 Parte 6: Heatmaps (Mapas de Calor)\n",
    "\n",
    "### 🤔 **¿Qué es un Heatmap?**\n",
    "\n",
    "Un **heatmap** visualiza datos en forma de matriz usando colores:\n",
    "- 🔵 **Azul/Frío** = Valores bajos\n",
    "- 🟡 **Amarillo** = Valores medios\n",
    "- 🔴 **Rojo/Caliente** = Valores altos\n",
    "\n",
    "**Analogía:** Es como un mapa de temperatura donde cada celda tiene un color según su valor.\n",
    "\n",
    "```\n",
    "          Hora del día →\n",
    "       0  1  2  3  4  5 ... 23\n",
    "Lun   🔵 🔵 🔵 🟡 🟡 🟠 ... 🔴\n",
    "Mar   🔵 🔵 🔵 🟡 🟡 🟠 ... 🔴\n",
    "Mié   🔵 🔵 🔵 🟡 🟡 🟠 ... 🔴\n",
    "...\n",
    "```\n",
    "\n",
    "---\n",
    "\n",
    "### 📊 **¿Qué nos muestra un Heatmap?**\n",
    "\n",
    "✅ **Patrones temporales** - ¿Qué horas son más contaminadas?  \n",
    "✅ **Patrones espaciales** - ¿Qué distritos son más afectados?  \n",
    "✅ **Tendencias** - ¿Hay regularidad día a día?  \n",
    "✅ **Anomalías** - Celdas muy rojas o muy azules\n",
    "\n",
    "---\n",
    "\n",
    "### 🌆 **Ejemplo: Contaminación por Hora y Distrito**\n",
    "\n",
    "**Interpretación típica:**\n",
    "```\n",
    "                 0h  6h  12h  18h  23h\n",
    "Cercado Lima    🔴  🔴  🟠   🔴   🔴  ← Muy contaminado todo el día\n",
    "Miraflores      🔵  🟡  🟡   🟡   🔵  ← Moderado, picos en horas pico\n",
    "San Isidro      🔵  🔵  🟢   🟡   🔵  ← Bajo, zona con más áreas verdes\n",
    "```\n",
    "\n",
    "**Insight:** El Cercado de Lima tiene contaminación persistente (zona de alto tráfico y comercial), mientras que zonas residenciales como Miraflores mejoran de noche.\n",
    "\n",
    "---\n",
    "\n",
    "### 🎯 **Aplicaciones en Datos Ambientales:**\n",
    "\n",
    "✅ **Identificar horas pico** de contaminación (tráfico vehicular)  \n",
    "✅ **Comparar distritos** (priorizar intervenciones)  \n",
    "✅ **Detectar estacionalidad** (meses más contaminados)  \n",
    "✅ **Planificar monitoreo** (concentrar esfuerzos en zonas/horas críticas)\n",
    "\n",
    "---\n",
    "\n",
    "### 📈 **Lo que haremos:**\n",
    "\n",
    "1. Cargar datos de todas las estaciones\n",
    "2. Seleccionar contaminante (PM10, PM2.5 o NO2)\n",
    "3. Calcular promedio por **hora del día** y **distrito**\n",
    "4. Generar heatmap con paleta de colores \"coolwarm\"\n",
    "5. Interpretar patrones"
   ]
  },
  {
   "cell_type": "code",
   "execution_count": 22,
   "id": "12737567",
   "metadata": {},
   "outputs": [
    {
     "name": "stdout",
     "output_type": "stream",
     "text": [
      "\n",
      "🌫️ Contaminantes disponibles:\n",
      "   1. PM10\n",
      "   2. PM2_5\n",
      "   3. NO2\n",
      "\n",
      "🏙️ Distritos disponibles en el dataset: 7\n",
      "CARABAYLLO, JESUS_MARIA, SANTA_ANITA, SAN_BORJA, SAN_JUAN_DE_LURIGANCHO, SAN_MARTIN_DE_PORRES, VILLA_MARIA_DEL_TRIUNFO ...\n"
     ]
    },
    {
     "data": {
      "image/png": "[encoded data removed]",
      "text/plain": [
       "<Figure size 1400x800 with 2 Axes>"
      ]
     },
     "metadata": {},
     "output_type": "display_data"
    },
    {
     "name": "stdout",
     "output_type": "stream",
     "text": [
      "\n",
      "--- ESTADÍSTICOS ---\n",
      "Variable: PM10\n",
      "N distritos: 7\n",
      "Rango de horas: 0 — 23\n",
      "Promedio general: 61.84\n",
      "Desviación estándar: 46.54\n",
      "\n",
      "✅ Heatmap hora vs distrito generado correctamente.\n"
     ]
    }
   ],
   "source": [
    "# HEATMAP hora vs distrito de contaminantes atmosféricos\n",
    "\n",
    "import pandas as pd\n",
    "import matplotlib.pyplot as plt\n",
    "import seaborn as sns\n",
    "\n",
    "# ---------------- CONFIG ----------------\n",
    "CSV_PATH = \"Contaminantes_SENAMHI.csv\"   # Cambia si es necesario\n",
    "# ----------------------------------------\n",
    "\n",
    "# ---------- Leer CSV ----------\n",
    "df = pd.read_csv(CSV_PATH)\n",
    "\n",
    "# Mostrar contaminantes disponibles\n",
    "possible_vars = [\"PM10\", \"PM2_5\", \"NO2\"]\n",
    "vars_present = [v for v in possible_vars if v in df.columns]\n",
    "\n",
    "print(\"\\n🌫️ Contaminantes disponibles:\")\n",
    "for i, v in enumerate(vars_present, start=1):\n",
    "    print(f\"  {i:2d}. {v}\")\n",
    "\n",
    "# Elegir contaminante\n",
    "while True:\n",
    "    choice_v = input(\"\\nElige el número del contaminante: \").strip()\n",
    "    if choice_v.isdigit() and 1 <= int(choice_v) <= len(vars_present):\n",
    "        VARIABLE = vars_present[int(choice_v)-1]\n",
    "        break\n",
    "    print(\"❌ Opción inválida. Intenta nuevamente.\")\n",
    "\n",
    "# ---------- Preparar datos ----------\n",
    "df[VARIABLE] = pd.to_numeric(df[VARIABLE], errors=\"coerce\")\n",
    "\n",
    "# Combinar fecha y hora en datetime\n",
    "df[\"FECHA\"] = df[\"FECHA\"].astype(str).str.zfill(8)\n",
    "df[\"HORA\"] = df[\"HORA\"].astype(str).str.zfill(6)\n",
    "df[\"datetime\"] = pd.to_datetime(df[\"FECHA\"] + df[\"HORA\"], format=\"%Y%m%d%H%M%S\", errors=\"coerce\")\n",
    "df = df.dropna(subset=[\"datetime\"])\n",
    "\n",
    "# Extraer hora del día\n",
    "df[\"HORA_DIA\"] = df[\"datetime\"].dt.hour\n",
    "\n",
    "# Verificar distritos disponibles\n",
    "distritos = sorted(df[\"DISTRITO\"].dropna().unique())\n",
    "print(\"\\n🏙️ Distritos disponibles en el dataset:\", len(distritos))\n",
    "print(\", \".join(distritos[:10]), \"...\")  # muestra los primeros 10\n",
    "\n",
    "# ---------- Crear tabla para heatmap ----------\n",
    "# Promedio del contaminante por hora y distrito\n",
    "pivot = (\n",
    "    df.groupby([\"DISTRITO\", \"HORA_DIA\"])[VARIABLE]\n",
    "    .mean()\n",
    "    .reset_index()\n",
    "    .pivot(index=\"DISTRITO\", columns=\"HORA_DIA\", values=VARIABLE)\n",
    ")\n",
    "\n",
    "# Ordenar distritos por promedio general para mejor lectura\n",
    "order = df.groupby(\"DISTRITO\")[VARIABLE].mean().sort_values(ascending=False).index\n",
    "pivot = pivot.loc[order]\n",
    "\n",
    "# ---------- Graficar heatmap ----------\n",
    "plt.figure(figsize=(14, 8))\n",
    "sns.heatmap(\n",
    "    pivot,\n",
    "    cmap=\"coolwarm\",\n",
    "    cbar_kws={\"label\": f\"{VARIABLE} (µg/m³)\"},\n",
    "    linewidths=0.2,\n",
    "    linecolor=\"gray\"\n",
    ")\n",
    "\n",
    "plt.title(f\"Mapa de calor de {VARIABLE} por hora y distrito\", fontsize=14)\n",
    "plt.xlabel(\"Hora del día\")\n",
    "plt.ylabel(\"Distrito\")\n",
    "plt.tight_layout()\n",
    "plt.show()\n",
    "\n",
    "# ---------- Estadísticos ----------\n",
    "print(\"\\n--- ESTADÍSTICOS ---\")\n",
    "print(f\"Variable: {VARIABLE}\")\n",
    "print(f\"N distritos: {pivot.shape[0]}\")\n",
    "print(f\"Rango de horas: {pivot.columns.min()} — {pivot.columns.max()}\")\n",
    "print(f\"Promedio general: {df[VARIABLE].mean():.2f}\")\n",
    "print(f\"Desviación estándar: {df[VARIABLE].std():.2f}\")\n",
    "\n",
    "print(\"\\n✅ Heatmap hora vs distrito generado correctamente.\")\n"
   ]
  },
  {
   "cell_type": "markdown",
   "id": "9698f4a1",
   "metadata": {},
   "source": [
    "---\n",
    "\n",
    "## 🚀 Parte 7: Dashboard Interactivo con Dash\n",
    "\n",
    "### 🤔 **¿Qué es un Dashboard?**\n",
    "\n",
    "Un **dashboard** es una aplicación web interactiva que:\n",
    "- ✅ Muestra múltiples visualizaciones en un solo lugar\n",
    "- ✅ Permite **filtrar y explorar** datos en tiempo real\n",
    "- ✅ Se actualiza **dinámicamente** según las selecciones del usuario\n",
    "- ✅ No requiere escribir código para cada consulta\n",
    "\n",
    "**Analogía:** Es como el tablero de un carro donde ves velocidad, gasolina, temperatura, etc. Todo en un solo vistazo.\n",
    "\n",
    "---\n",
    "\n",
    "### 📊 **¿Qué es Dash?**\n",
    "\n",
    "**Dash** es una librería de Python para crear aplicaciones web interactivas sin necesidad de JavaScript.\n",
    "\n",
    "**Componentes principales:**\n",
    "1. **Layout** - Estructura visual (títulos, dropdowns, gráficos)\n",
    "2. **Callbacks** - Funciones que actualizan gráficos automáticamente\n",
    "3. **Inputs** - Controles del usuario (filtros, selectores)\n",
    "4. **Outputs** - Gráficos que se actualizan\n",
    "\n",
    "---\n",
    "\n",
    "### 🎯 **Nuestro Dashboard incluirá:**\n",
    "\n",
    "| Componente | Funcionalidad |\n",
    "|------------|---------------|\n",
    "| **Dropdown Estación** | Filtrar por estación de monitoreo |\n",
    "| **Dropdown Contaminante** | Elegir PM10, PM2.5 o NO2 |\n",
    "| **Dropdown Año** | Seleccionar año a analizar |\n",
    "| **Gráfico 1: Serie Temporal** | Evolución en el tiempo |\n",
    "| **Gráfico 2: Boxplot** | Distribución mensual |\n",
    "| **Gráfico 3: Scatterplot** | Relación hora vs valor |\n",
    "| **Gráfico 4: Heatmap** | Patrón hora-distrito |\n",
    "\n",
    "---\n",
    "\n",
    "### 🌐 **¿Cómo funciona?**\n",
    "\n",
    "```\n",
    "Usuario selecciona:          Python actualiza:\n",
    "┌─────────────────┐         ┌──────────────────┐\n",
    "│ Estación: SMP   │  ────→  │ fig_serie_tiempo │\n",
    "│ Variable: PM10  │  ────→  │ fig_boxplot      │\n",
    "│ Año: 2024       │  ────→  │ fig_scatter      │\n",
    "└─────────────────┘         │ fig_heatmap      │\n",
    "                            └──────────────────┘\n",
    "                                    ↓\n",
    "                            Navegador actualiza\n",
    "                            los 4 gráficos\n",
    "```\n",
    "\n",
    "---\n",
    "\n",
    "### ⚙️ **¿Cómo ejecutar el Dashboard?**\n",
    "\n",
    "1. Ejecuta la celda del código\n",
    "2. Aparecerá un mensaje: `🚀 Abre tu navegador en: http://127.0.0.1:8050`\n",
    "3. Copia ese link y ábrelo en tu navegador\n",
    "4. Interactúa con los dropdowns y observa cómo se actualizan los gráficos\n",
    "\n",
    "---\n",
    "\n",
    "### 💡 **Tip Importante:**\n",
    "\n",
    "- El dashboard se ejecuta en un **servidor local** (tu computadora)\n",
    "- Para detenerlo, presiona el botón **Stop** (⬛) en Jupyter\n",
    "- No cierres la ventana del navegador mientras uses el dashboard"
   ]
  },
  {
   "cell_type": "code",
   "execution_count": 2,
   "id": "662bc891",
   "metadata": {},
   "outputs": [
    {
     "name": "stdout",
     "output_type": "stream",
     "text": [
      "pkgutil.find_loader shim added to cell\n",
      "🚀 Abre tu navegador en: http://127.0.0.1:8051\n"
     ]
    },
    {
     "data": {
      "text/html": [
       "\n",
       "        <iframe\n",
       "            width=\"100%\"\n",
       "            height=\"650\"\n",
       "            src=\"http://127.0.0.1:8051/\"\n",
       "            frameborder=\"0\"\n",
       "            allowfullscreen\n",
       "            \n",
       "        ></iframe>\n",
       "        "
      ],
      "text/plain": [
       "<IPython.lib.display.IFrame at 0x1c0ccffc050>"
      ]
     },
     "metadata": {},
     "output_type": "display_data"
    }
   ],
   "source": [
    "# DASHBOARD INTERACTIVO DE CONTAMINANTES AMBIENTALES\n",
    "\n",
    "# Compatibility shim: provide pkgutil.find_loader on Python 3.14+ where it was removed\n",
    "import pkgutil\n",
    "import importlib.util\n",
    "if not hasattr(pkgutil, 'find_loader'):\n",
    "    def _find_loader(name):\n",
    "        spec = importlib.util.find_spec(name)\n",
    "        return spec.loader if spec is not None else None\n",
    "    pkgutil.find_loader = _find_loader\n",
    "    # also add to importlib for older code that checks importlib.find_loader\n",
    "    import importlib\n",
    "    if not hasattr(importlib, 'find_loader'):\n",
    "        importlib.find_loader = _find_loader\n",
    "print('pkgutil.find_loader shim added to cell')\n",
    "# -----------------------------------------------------------------\n",
    "\n",
    "import pandas as pd\n",
    "import numpy as np\n",
    "import plotly.express as px\n",
    "import plotly.graph_objects as go\n",
    "from dash import Dash, dcc, html, Input, Output\n",
    "\n",
    "# ---------------- CONFIG ----------------\n",
    "CSV_PATH = \"Contaminantes_SENAMHI.csv\"   # Cambia el nombre si es distinto\n",
    "# ----------------------------------------\n",
    "\n",
    "# ---------- Cargar y preparar datos ----------\n",
    "df = pd.read_csv(CSV_PATH)\n",
    "\n",
    "# Asegurar nombres limpios\n",
    "df.columns = df.columns.str.strip().str.upper()\n",
    "\n",
    "# Detectar contaminantes disponibles\n",
    "contaminantes = [c for c in [\"PM10\", \"PM2_5\", \"NO2\"] if c in df.columns]\n",
    "estaciones = sorted(df[\"ESTACION\"].dropna().unique())\n",
    "\n",
    "# Procesar fecha y hora\n",
    "df[\"FECHA\"] = df[\"FECHA\"].astype(str).str.zfill(8)\n",
    "df[\"HORA\"] = df[\"HORA\"].astype(str).str.zfill(6)\n",
    "df[\"datetime\"] = pd.to_datetime(df[\"FECHA\"] + df[\"HORA\"], format=\"%Y%m%d%H%M%S\", errors=\"coerce\")\n",
    "df = df.dropna(subset=[\"datetime\"])\n",
    "\n",
    "df[\"HORA_DIA\"] = df[\"datetime\"].dt.hour\n",
    "df[\"ANIO\"] = df[\"datetime\"].dt.year\n",
    "\n",
    "# ---------- Crear app Dash ----------\n",
    "app = Dash(__name__)\n",
    "app.title = \"Dashboard de Contaminantes Atmosféricos\"\n",
    "\n",
    "app.layout = html.Div([\n",
    "    html.H1(\"🌎 Dashboard de Contaminantes Atmosféricos — SENAMHI\", style={\"textAlign\": \"center\"}),\n",
    "\n",
    "    # --- Controles ---\n",
    "    html.Div([\n",
    "        html.Div([\n",
    "            html.Label(\"Estación:\"),\n",
    "            dcc.Dropdown(\n",
    "                id=\"estacion-dropdown\",\n",
    "                options=[{\"label\": e, \"value\": e} for e in estaciones],\n",
    "                value=estaciones[0],\n",
    "                clearable=False\n",
    "            ),\n",
    "        ], style={\"width\": \"30%\", \"display\": \"inline-block\", \"marginRight\": \"2%\"}),\n",
    "\n",
    "        html.Div([\n",
    "            html.Label(\"Contaminante:\"),\n",
    "            dcc.Dropdown(\n",
    "                id=\"contaminante-dropdown\",\n",
    "                options=[{\"label\": c, \"value\": c} for c in contaminantes],\n",
    "                value=contaminantes[0],\n",
    "                clearable=False\n",
    "            ),\n",
    "        ], style={\"width\": \"30%\", \"display\": \"inline-block\", \"marginRight\": \"2%\"}),\n",
    "\n",
    "        html.Div([\n",
    "            html.Label(\"Año:\"),\n",
    "            dcc.Dropdown(\n",
    "                id=\"anio-dropdown\",\n",
    "                clearable=False\n",
    "            ),\n",
    "        ], style={\"width\": \"30%\", \"display\": \"inline-block\"}),\n",
    "    ], style={\"marginBottom\": \"20px\"}),\n",
    "\n",
    "    # --- Gráficos ---\n",
    "    html.Div([\n",
    "        dcc.Graph(id=\"serie-tiempo\"),\n",
    "        dcc.Graph(id=\"boxplot\"),\n",
    "        dcc.Graph(id=\"scatterplot\"),\n",
    "        dcc.Graph(id=\"heatmap\")\n",
    "    ])\n",
    "])\n",
    "\n",
    "# ---------- Callbacks ----------\n",
    "\n",
    "@app.callback(\n",
    "    Output(\"anio-dropdown\", \"options\"),\n",
    "    Output(\"anio-dropdown\", \"value\"),\n",
    "    Input(\"estacion-dropdown\", \"value\")\n",
    ")\n",
    "def actualizar_anios(estacion):\n",
    "    subset = df[df[\"ESTACION\"] == estacion]\n",
    "    anios = sorted(subset[\"ANIO\"].dropna().unique())\n",
    "    options = [{\"label\": str(a), \"value\": a} for a in anios]\n",
    "    default = anios[0] if anios else None\n",
    "    return options, default\n",
    "\n",
    "\n",
    "@app.callback(\n",
    "    Output(\"serie-tiempo\", \"figure\"),\n",
    "    Output(\"boxplot\", \"figure\"),\n",
    "    Output(\"scatterplot\", \"figure\"),\n",
    "    Output(\"heatmap\", \"figure\"),\n",
    "    Input(\"estacion-dropdown\", \"value\"),\n",
    "    Input(\"contaminante-dropdown\", \"value\"),\n",
    "    Input(\"anio-dropdown\", \"value\")\n",
    ")\n",
    "def actualizar_graficos(estacion, variable, anio):\n",
    "    dff = df[(df[\"ESTACION\"] == estacion) & (df[\"ANIO\"] == anio)].copy()\n",
    "    dff[variable] = pd.to_numeric(dff[variable], errors=\"coerce\")\n",
    "\n",
    "    # --- Serie temporal ---\n",
    "    serie = dff.groupby(\"datetime\")[variable].mean().interpolate(method=\"time\").ffill().bfill()\n",
    "    fig_serie = px.line(\n",
    "        x=serie.index, y=serie.values,\n",
    "        labels={\"x\": \"Fecha\", \"y\": f\"{variable} (µg/m³)\"},\n",
    "        title=f\"📈 Serie temporal de {variable} — {estacion} ({anio})\"\n",
    "    )\n",
    "    fig_serie.update_traces(line_color=\"royalblue\")\n",
    "\n",
    "    # --- Boxplot por mes ---\n",
    "    dff[\"MES\"] = dff[\"datetime\"].dt.month\n",
    "    fig_box = px.box(\n",
    "        dff, x=\"MES\", y=variable,\n",
    "        labels={\"MES\": \"Mes\", variable: f\"{variable} (µg/m³)\"},\n",
    "        title=f\"📦 Distribución mensual de {variable} — {estacion}\"\n",
    "    )\n",
    "\n",
    "    # --- Scatterplot hora vs valor ---\n",
    "    fig_scatter = px.scatter(\n",
    "        dff, x=\"HORA_DIA\", y=variable, color=\"MES\",\n",
    "        color_continuous_scale=\"Viridis\",\n",
    "        labels={\"HORA_DIA\": \"Hora del día\", variable: f\"{variable} (µg/m³)\"},\n",
    "        title=f\"⚫ {variable} según hora del día — {estacion}\"\n",
    "    )\n",
    "\n",
    "    # --- Heatmap hora vs distrito ---\n",
    "    pivot = (\n",
    "        dff.groupby([\"DISTRITO\", \"HORA_DIA\"])[variable]\n",
    "        .mean()\n",
    "        .reset_index()\n",
    "        .pivot(index=\"DISTRITO\", columns=\"HORA_DIA\", values=variable)\n",
    "    )\n",
    "    fig_heat = px.imshow(\n",
    "        pivot,\n",
    "        color_continuous_scale=\"RdYlBu_r\",\n",
    "        labels=dict(x=\"Hora del día\", y=\"Distrito\", color=f\"{variable} (µg/m³)\"),\n",
    "        title=f\"🔥 Promedio horario de {variable} por distrito — {anio}\"\n",
    "    )\n",
    "\n",
    "    # Mejoras visuales\n",
    "    for fig in [fig_serie, fig_box, fig_scatter, fig_heat]:\n",
    "        fig.update_layout(template=\"plotly_white\", height=400)\n",
    "\n",
    "    return fig_serie, fig_box, fig_scatter, fig_heat\n",
    "\n",
    "# ---------- Ejecutar servidor ----------\n",
    "if __name__ == \"__main__\":\n",
    "    print(\"🚀 Abre tu navegador en: http://127.0.0.1:8051\")\n",
    "    app.run(debug=True, port=8051)\n"
   ]
  },
  {
   "cell_type": "markdown",
   "id": "e2f33e8e",
   "metadata": {},
   "source": [
    "---\n",
    "\n",
    "## 📝 Ejercicios Prácticos\n",
    "\n",
    "### 🎯 **Ejercicio 1: Análisis de Estación (Básico)**\n",
    "\n",
    "**Objetivo:** Analizar una estación diferente a las del ejemplo.\n",
    "\n",
    "**Tareas:**\n",
    "1. Selecciona la estación \"SAN_MARTIN_DE_PORRES\"\n",
    "2. Crea un gráfico de línea de PM2.5 para el año 2024\n",
    "3. Responde:\n",
    "   - ¿Cuál es el valor promedio?\n",
    "   - ¿Cuál es el valor máximo y en qué fecha ocurrió?\n",
    "   - ¿Hay huecos grandes en los datos?\n",
    "\n",
    "---\n",
    "\n",
    "### 🎯 **Ejercicio 2: Comparación de Contaminantes (Intermedio)**\n",
    "\n",
    "**Objetivo:** Comparar dos contaminantes diferentes.\n",
    "\n",
    "**Tareas:**\n",
    "1. Crea un scatterplot de PM10 vs NO2\n",
    "2. Calcula el coeficiente de correlación\n",
    "3. Interpreta:\n",
    "   - ¿Están relacionados? ¿Por qué?\n",
    "   - ¿Qué nos dice esto sobre las fuentes de contaminación?\n",
    "\n",
    "---\n",
    "\n",
    "### 🎯 **Ejercicio 3: Análisis Temporal (Avanzado)**\n",
    "\n",
    "**Objetivo:** Identificar patrones por hora del día.\n",
    "\n",
    "**Tareas:**\n",
    "1. Agrupa los datos de PM10 por hora del día (0-23)\n",
    "2. Calcula el promedio para cada hora\n",
    "3. Crea un gráfico de barras\n",
    "4. Responde:\n",
    "   - ¿A qué horas hay más contaminación?\n",
    "   - ¿Qué actividades humanas podrían explicar este patrón?\n",
    "\n",
    "**Pista:**\n",
    "```python\n",
    "# Agrupar por hora\n",
    "df['hora'] = df['DATETIME'].dt.hour\n",
    "promedios_por_hora = df.groupby('hora')['PM10'].mean()\n",
    "```\n",
    "\n",
    "---\n",
    "\n",
    "### 🎯 **Ejercicio 4: Proyecto Final (Desafío)**\n",
    "\n",
    "**Objetivo:** Crear tu propio análisis completo.\n",
    "\n",
    "**Tareas:**\n",
    "1. Elige una estación y un contaminante\n",
    "2. Genera:\n",
    "   - Serie temporal completa\n",
    "   - Boxplot por mes\n",
    "   - Heatmap hora vs día de la semana\n",
    "   - Estadísticos descriptivos\n",
    "3. Escribe un **informe de 1 párrafo** con tus conclusiones\n",
    "\n",
    "**Formato del informe:**\n",
    "```\n",
    "Durante el año 2024, la estación [nombre] presentó niveles de [contaminante]\n",
    "con un promedio de [valor] µg/m³. Los meses más contaminados fueron [meses]\n",
    "y las horas críticas fueron [horas]. Se observó que [patrón identificado].\n",
    "Estos resultados sugieren que [interpretación].\n",
    "```"
   ]
  },
  {
   "cell_type": "markdown",
   "id": "2143f43c",
   "metadata": {},
   "source": [
    "---\n",
    "\n",
    "## 📚 Resumen de la Sesión\n",
    "\n",
    "### ✅ **Lo que aprendimos:**\n",
    "\n",
    "1. **Fundamentos de Visualización**\n",
    "   - Tipos de gráficos y cuándo usarlos\n",
    "   - Diferencias entre Matplotlib y Plotly\n",
    "   \n",
    "2. **Series Temporales**\n",
    "   - Crear gráficos de línea interactivos\n",
    "   - Analizar cobertura de datos\n",
    "   - Rellenar datos faltantes con interpolación\n",
    "   \n",
    "3. **Análisis de Distribuciones**\n",
    "   - Interpretar boxplots\n",
    "   - Detectar outliers\n",
    "   - Comparar periodos temporales\n",
    "   \n",
    "4. **Relaciones entre Variables**\n",
    "   - Scatterplots y correlaciones\n",
    "   - Heatmaps para patrones multidimensionales\n",
    "   \n",
    "5. **Dashboards Interactivos**\n",
    "   - Crear aplicaciones web con Dash\n",
    "   - Conectar controles con gráficos\n",
    "\n",
    "---\n",
    "\n",
    "### 🎯 **Conceptos Clave:**\n",
    "\n",
    "| Concepto | Definición | Aplicación |\n",
    "|----------|-----------|------------|\n",
    "| **Cobertura** | % de datos disponibles | Evaluar calidad de datos |\n",
    "| **Interpolación** | Rellenar huecos | Análisis continuo |\n",
    "| **Outlier** | Valor atípico | Detectar eventos |\n",
    "| **Correlación** | Relación entre variables | Identificar fuentes |\n",
    "| **Callback** | Función que actualiza gráficos | Dashboards interactivos |\n",
    "\n",
    "---\n",
    "\n",
    "### 🔧 **Comandos Importantes:**\n",
    "\n",
    "```python\n",
    "# Gráfico interactivo con Plotly\n",
    "fig = px.line(df, x='fecha', y='valor', title='Título')\n",
    "fig.show()\n",
    "\n",
    "# Boxplot con Pandas\n",
    "df.boxplot(column='PM10', by='mes')\n",
    "\n",
    "# Scatterplot con Plotly\n",
    "fig = px.scatter(df, x='PM10', y='PM2.5')\n",
    "\n",
    "# Heatmap con Seaborn\n",
    "sns.heatmap(pivot_table, cmap='coolwarm')\n",
    "\n",
    "# Interpolación temporal\n",
    "series.interpolate(method='time')\n",
    "\n",
    "# Correlación de Pearson\n",
    "df[['PM10', 'PM2.5']].corr()\n",
    "```\n",
    "\n",
    "---\n",
    "\n",
    "### 📖 **Recursos Adicionales:**\n",
    "\n",
    "**Documentación Oficial:**\n",
    "- [Plotly Python](https://plotly.com/python/) - Galería de gráficos interactivos\n",
    "- [Matplotlib Gallery](https://matplotlib.org/stable/gallery/index.html) - Ejemplos de gráficos\n",
    "- [Seaborn Tutorial](https://seaborn.pydata.org/tutorial.html) - Visualizaciones estadísticas\n",
    "- [Dash Documentation](https://dash.plotly.com/) - Guía de dashboards\n",
    "\n",
    "**Tutoriales Recomendados:**\n",
    "- [Plotly Express in 15 minutes](https://plotly.com/python/plotly-express/)\n",
    "- [From Data to Viz](https://www.data-to-viz.com/) - Elegir el gráfico correcto\n",
    "- [Python Graph Gallery](https://python-graph-gallery.com/) - Ejemplos de código\n",
    "\n",
    "**Datasets de Práctica:**\n",
    "- [SENAMHI Perú](https://www.senamhi.gob.pe/) - Datos meteorológicos\n",
    "- [OpenAQ](https://openaq.org/) - Calidad del aire global\n",
    "- [Kaggle Datasets](https://www.kaggle.com/datasets) - Datasets variados\n",
    "\n",
    "---"
   ]
  },
  {
   "cell_type": "code",
   "execution_count": null,
   "id": "36a4ac90",
   "metadata": {},
   "outputs": [
    {
     "name": "stdout",
     "output_type": "stream",
     "text": [
      "Collecting plotly\n",
      "  Using cached plotly-6.3.1-py3-none-any.whl.metadata (8.5 kB)\n",
      "Collecting dash\n",
      "  Using cached dash-3.2.0-py3-none-any.whl.metadata (10 kB)\n",
      "Collecting narwhals>=1.15.1 (from plotly)\n",
      "  Using cached narwhals-2.7.0-py3-none-any.whl.metadata (11 kB)\n",
      "Requirement already satisfied: packaging in c:\\users\\20191\\appdata\\local\\programs\\python\\python312\\lib\\site-packages (from plotly) (24.2)\n",
      "Requirement already satisfied: Flask<3.2,>=1.0.4 in c:\\users\\20191\\appdata\\local\\programs\\python\\python312\\lib\\site-packages (from dash) (3.1.0)\n",
      "Requirement already satisfied: Werkzeug<3.2 in c:\\users\\20191\\appdata\\local\\programs\\python\\python312\\lib\\site-packages (from dash) (3.1.3)\n",
      "Requirement already satisfied: importlib-metadata in c:\\users\\20191\\appdata\\local\\programs\\python\\python312\\lib\\site-packages (from dash) (7.2.1)\n",
      "Requirement already satisfied: typing-extensions>=4.1.1 in c:\\users\\20191\\appdata\\local\\programs\\python\\python312\\lib\\site-packages (from dash) (4.13.2)\n",
      "Requirement already satisfied: requests in c:\\users\\20191\\appdata\\local\\programs\\python\\python312\\lib\\site-packages (from dash) (2.32.3)\n",
      "Collecting retrying (from dash)\n",
      "  Using cached retrying-1.4.2-py3-none-any.whl.metadata (5.5 kB)\n",
      "Requirement already satisfied: nest-asyncio in c:\\users\\20191\\appdata\\roaming\\python\\python312\\site-packages (from dash) (1.6.0)\n",
      "Requirement already satisfied: setuptools in c:\\users\\20191\\appdata\\local\\programs\\python\\python312\\lib\\site-packages (from dash) (69.5.1)\n",
      "Requirement already satisfied: Jinja2>=3.1.2 in c:\\users\\20191\\appdata\\local\\programs\\python\\python312\\lib\\site-packages (from Flask<3.2,>=1.0.4->dash) (3.1.6)\n",
      "Requirement already satisfied: itsdangerous>=2.2 in c:\\users\\20191\\appdata\\local\\programs\\python\\python312\\lib\\site-packages (from Flask<3.2,>=1.0.4->dash) (2.2.0)\n",
      "Requirement already satisfied: click>=8.1.3 in c:\\users\\20191\\appdata\\local\\programs\\python\\python312\\lib\\site-packages (from Flask<3.2,>=1.0.4->dash) (8.1.8)\n",
      "Requirement already satisfied: blinker>=1.9 in c:\\users\\20191\\appdata\\local\\programs\\python\\python312\\lib\\site-packages (from Flask<3.2,>=1.0.4->dash) (1.9.0)\n",
      "Requirement already satisfied: MarkupSafe>=2.1.1 in c:\\users\\20191\\appdata\\local\\programs\\python\\python312\\lib\\site-packages (from Werkzeug<3.2->dash) (3.0.2)\n",
      "Requirement already satisfied: zipp>=0.5 in c:\\users\\20191\\appdata\\local\\programs\\python\\python312\\lib\\site-packages (from importlib-metadata->dash) (3.21.0)\n",
      "Requirement already satisfied: charset-normalizer<4,>=2 in c:\\users\\20191\\appdata\\local\\programs\\python\\python312\\lib\\site-packages (from requests->dash) (3.4.2)\n",
      "Requirement already satisfied: idna<4,>=2.5 in c:\\users\\20191\\appdata\\local\\programs\\python\\python312\\lib\\site-packages (from requests->dash) (3.10)\n",
      "Requirement already satisfied: urllib3<3,>=1.21.1 in c:\\users\\20191\\appdata\\local\\programs\\python\\python312\\lib\\site-packages (from requests->dash) (2.4.0)\n",
      "Requirement already satisfied: certifi>=2017.4.17 in c:\\users\\20191\\appdata\\local\\programs\\python\\python312\\lib\\site-packages (from requests->dash) (2025.4.26)\n",
      "Requirement already satisfied: colorama in c:\\users\\20191\\appdata\\roaming\\python\\python312\\site-packages (from click>=8.1.3->Flask<3.2,>=1.0.4->dash) (0.4.6)\n",
      "Using cached plotly-6.3.1-py3-none-any.whl (9.8 MB)\n",
      "Using cached dash-3.2.0-py3-none-any.whl (7.9 MB)\n",
      "Using cached narwhals-2.7.0-py3-none-any.whl (412 kB)\n",
      "Using cached retrying-1.4.2-py3-none-any.whl (10 kB)\n",
      "Installing collected packages: retrying, narwhals, plotly, dash\n",
      "Successfully installed dash-3.2.0 narwhals-2.7.0 plotly-6.3.1 retrying-1.4.2\n"
     ]
    },
    {
     "name": "stderr",
     "output_type": "stream",
     "text": [
      "\n",
      "[notice] A new release of pip is available: 24.3.1 -> 25.2\n",
      "[notice] To update, run: python.exe -m pip install --upgrade pip\n"
     ]
    }
   ],
   "source": [
    "import sys\n",
    "!{sys.executable} -m pip install plotly dash\n"
   ]
  }
 ],
 "metadata": {
  "kernelspec": {
   "display_name": "Python 3",
   "language": "python",
   "name": "python3"
  },
  "language_info": {
   "codemirror_mode": {
    "name": "ipython",
    "version": 3
   },
   "file_extension": ".py",
   "mimetype": "text/x-python",
   "name": "python",
   "nbconvert_exporter": "python",
   "pygments_lexer": "ipython3",
   "version": "3.10.11"
  }
 },
 "nbformat": 4,
 "nbformat_minor": 5
}
